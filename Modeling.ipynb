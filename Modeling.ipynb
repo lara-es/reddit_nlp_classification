{
 "cells": [
  {
   "cell_type": "markdown",
   "id": "b392ba55-7570-40ea-b24b-7aa6c33ab1af",
   "metadata": {},
   "source": [
    "### EDA"
   ]
  },
  {
   "cell_type": "code",
   "execution_count": 1,
   "id": "d6af9f2e-1b4b-4e7b-868b-096b962a10bb",
   "metadata": {},
   "outputs": [],
   "source": [
    "# Imports:\n",
    "import pandas as pd\n",
    "import numpy as np"
   ]
  },
  {
   "cell_type": "code",
   "execution_count": 10,
   "id": "c85e6ae9-0bf7-468f-953d-1fee78c77bf2",
   "metadata": {},
   "outputs": [
    {
     "data": {
      "text/html": [
       "<div>\n",
       "<style scoped>\n",
       "    .dataframe tbody tr th:only-of-type {\n",
       "        vertical-align: middle;\n",
       "    }\n",
       "\n",
       "    .dataframe tbody tr th {\n",
       "        vertical-align: top;\n",
       "    }\n",
       "\n",
       "    .dataframe thead th {\n",
       "        text-align: right;\n",
       "    }\n",
       "</style>\n",
       "<table border=\"1\" class=\"dataframe\">\n",
       "  <thead>\n",
       "    <tr style=\"text-align: right;\">\n",
       "      <th></th>\n",
       "      <th>title</th>\n",
       "      <th>score</th>\n",
       "      <th>id</th>\n",
       "      <th>subreddit</th>\n",
       "      <th>url</th>\n",
       "      <th>num_comments</th>\n",
       "      <th>body</th>\n",
       "      <th>created</th>\n",
       "      <th>date</th>\n",
       "    </tr>\n",
       "  </thead>\n",
       "  <tbody>\n",
       "    <tr>\n",
       "      <th>0</th>\n",
       "      <td>Hurricane Harvey survivors only now getting ba...</td>\n",
       "      <td>1</td>\n",
       "      <td>x2md4s</td>\n",
       "      <td>climatechange</td>\n",
       "      <td>https://www.beaumontenterprise.com/news/articl...</td>\n",
       "      <td>0</td>\n",
       "      <td>NaN</td>\n",
       "      <td>1.661974e+09</td>\n",
       "      <td>2022-08-31 19:30:28</td>\n",
       "    </tr>\n",
       "    <tr>\n",
       "      <th>1</th>\n",
       "      <td>In what condition would the atmosphere have to...</td>\n",
       "      <td>0</td>\n",
       "      <td>x2emjd</td>\n",
       "      <td>climatechange</td>\n",
       "      <td>https://www.reddit.com/r/climatechange/comment...</td>\n",
       "      <td>5</td>\n",
       "      <td>What is currently happening in Earth is it's ...</td>\n",
       "      <td>1.661955e+09</td>\n",
       "      <td>2022-08-31 14:10:44</td>\n",
       "    </tr>\n",
       "    <tr>\n",
       "      <th>2</th>\n",
       "      <td>Has anyone here been personally affected by a ...</td>\n",
       "      <td>26</td>\n",
       "      <td>x27u36</td>\n",
       "      <td>climatechange</td>\n",
       "      <td>https://www.reddit.com/r/climatechange/comment...</td>\n",
       "      <td>21</td>\n",
       "      <td>With what’s happened in Pakistan, ongoing wild...</td>\n",
       "      <td>1.661933e+09</td>\n",
       "      <td>2022-08-31 08:07:27</td>\n",
       "    </tr>\n",
       "    <tr>\n",
       "      <th>3</th>\n",
       "      <td>A prolonged and record heat wave builds over t...</td>\n",
       "      <td>54</td>\n",
       "      <td>x1y1kh</td>\n",
       "      <td>climatechange</td>\n",
       "      <td>https://www.cnn.com/2022/08/30/weather/record-...</td>\n",
       "      <td>10</td>\n",
       "      <td>NaN</td>\n",
       "      <td>1.661902e+09</td>\n",
       "      <td>2022-08-30 23:33:35</td>\n",
       "    </tr>\n",
       "    <tr>\n",
       "      <th>4</th>\n",
       "      <td>Graph that illustrates changes in major weathe...</td>\n",
       "      <td>6</td>\n",
       "      <td>x1v5ru</td>\n",
       "      <td>climatechange</td>\n",
       "      <td>https://www.reddit.com/r/climatechange/comment...</td>\n",
       "      <td>5</td>\n",
       "      <td>I’m looking for a graph that depicts the shift...</td>\n",
       "      <td>1.661895e+09</td>\n",
       "      <td>2022-08-30 21:32:19</td>\n",
       "    </tr>\n",
       "  </tbody>\n",
       "</table>\n",
       "</div>"
      ],
      "text/plain": [
       "                                               title  score      id  \\\n",
       "0  Hurricane Harvey survivors only now getting ba...      1  x2md4s   \n",
       "1  In what condition would the atmosphere have to...      0  x2emjd   \n",
       "2  Has anyone here been personally affected by a ...     26  x27u36   \n",
       "3  A prolonged and record heat wave builds over t...     54  x1y1kh   \n",
       "4  Graph that illustrates changes in major weathe...      6  x1v5ru   \n",
       "\n",
       "       subreddit                                                url  \\\n",
       "0  climatechange  https://www.beaumontenterprise.com/news/articl...   \n",
       "1  climatechange  https://www.reddit.com/r/climatechange/comment...   \n",
       "2  climatechange  https://www.reddit.com/r/climatechange/comment...   \n",
       "3  climatechange  https://www.cnn.com/2022/08/30/weather/record-...   \n",
       "4  climatechange  https://www.reddit.com/r/climatechange/comment...   \n",
       "\n",
       "   num_comments                                               body  \\\n",
       "0             0                                                NaN   \n",
       "1             5   What is currently happening in Earth is it's ...   \n",
       "2            21  With what’s happened in Pakistan, ongoing wild...   \n",
       "3            10                                                NaN   \n",
       "4             5  I’m looking for a graph that depicts the shift...   \n",
       "\n",
       "        created                 date  \n",
       "0  1.661974e+09  2022-08-31 19:30:28  \n",
       "1  1.661955e+09  2022-08-31 14:10:44  \n",
       "2  1.661933e+09  2022-08-31 08:07:27  \n",
       "3  1.661902e+09  2022-08-30 23:33:35  \n",
       "4  1.661895e+09  2022-08-30 21:32:19  "
      ]
     },
     "execution_count": 10,
     "metadata": {},
     "output_type": "execute_result"
    }
   ],
   "source": [
    "# Reading in data:\n",
    "climate = pd.read_csv('./data/cc_posts.csv')\n",
    "climate.head()"
   ]
  },
  {
   "cell_type": "code",
   "execution_count": 11,
   "id": "43b6ed77-146a-43e1-ba47-e69ec9311873",
   "metadata": {},
   "outputs": [
    {
     "name": "stdout",
     "output_type": "stream",
     "text": [
      "<class 'pandas.core.frame.DataFrame'>\n",
      "RangeIndex: 10161 entries, 0 to 10160\n",
      "Data columns (total 9 columns):\n",
      " #   Column        Non-Null Count  Dtype  \n",
      "---  ------        --------------  -----  \n",
      " 0   title         10161 non-null  object \n",
      " 1   score         10161 non-null  int64  \n",
      " 2   id            10161 non-null  object \n",
      " 3   subreddit     10161 non-null  object \n",
      " 4   url           10161 non-null  object \n",
      " 5   num_comments  10161 non-null  int64  \n",
      " 6   body          4239 non-null   object \n",
      " 7   created       10161 non-null  float64\n",
      " 8   date          10161 non-null  object \n",
      "dtypes: float64(1), int64(2), object(6)\n",
      "memory usage: 714.6+ KB\n"
     ]
    }
   ],
   "source": [
    "climate.info()"
   ]
  },
  {
   "cell_type": "code",
   "execution_count": 12,
   "id": "eb68f310-9327-488d-acc6-0b92bd5b5729",
   "metadata": {},
   "outputs": [
    {
     "data": {
      "text/plain": [
       "count    10161.000000\n",
       "mean        12.490306\n",
       "std         20.334562\n",
       "min          0.000000\n",
       "25%          2.000000\n",
       "50%          5.000000\n",
       "75%         14.000000\n",
       "max        274.000000\n",
       "Name: num_comments, dtype: float64"
      ]
     },
     "execution_count": 12,
     "metadata": {},
     "output_type": "execute_result"
    }
   ],
   "source": [
    "climate['num_comments'].describe()"
   ]
  },
  {
   "cell_type": "code",
   "execution_count": 13,
   "id": "d1666e6e-ed49-4324-8351-086f20d90f24",
   "metadata": {},
   "outputs": [
    {
     "data": {
      "text/plain": [
       "121"
      ]
     },
     "execution_count": 13,
     "metadata": {},
     "output_type": "execute_result"
    }
   ],
   "source": [
    "(climate['num_comments'] == 0).sum()"
   ]
  },
  {
   "cell_type": "code",
   "execution_count": null,
   "id": "b96ac446-1cb2-468f-a573-3c262e6352bb",
   "metadata": {},
   "outputs": [],
   "source": []
  }
 ],
 "metadata": {
  "kernelspec": {
   "display_name": "Python 3 (ipykernel)",
   "language": "python",
   "name": "python3"
  },
  "language_info": {
   "codemirror_mode": {
    "name": "ipython",
    "version": 3
   },
   "file_extension": ".py",
   "mimetype": "text/x-python",
   "name": "python",
   "nbconvert_exporter": "python",
   "pygments_lexer": "ipython3",
   "version": "3.9.12"
  }
 },
 "nbformat": 4,
 "nbformat_minor": 5
}
