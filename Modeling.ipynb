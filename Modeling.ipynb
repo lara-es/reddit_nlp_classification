{
 "cells": [
  {
   "cell_type": "markdown",
   "id": "b392ba55-7570-40ea-b24b-7aa6c33ab1af",
   "metadata": {},
   "source": [
    "## EDA"
   ]
  },
  {
   "cell_type": "code",
   "execution_count": 270,
   "id": "d6af9f2e-1b4b-4e7b-868b-096b962a10bb",
   "metadata": {},
   "outputs": [],
   "source": [
    "# Imports:\n",
    "import pandas as pd\n",
    "import numpy as np\n",
    "import seaborn as sns\n",
    "import matplotlib.pyplot as plt\n",
    "\n",
    "import re\n",
    "from sklearn.ensemble import RandomForestClassifier, ExtraTreesClassifier, AdaBoostClassifier\n",
    "from sklearn.feature_extraction.text import CountVectorizer\n",
    "from sklearn.model_selection import train_test_split, GridSearchCV, cross_val_score\n",
    "from sklearn.tree import export_text, DecisionTreeClassifier, plot_tree\n",
    "from nltk.stem import PorterStemmer \n",
    "from nltk.tokenize import word_tokenize"
   ]
  },
  {
   "cell_type": "code",
   "execution_count": 301,
   "id": "c85e6ae9-0bf7-468f-953d-1fee78c77bf2",
   "metadata": {},
   "outputs": [
    {
     "data": {
      "text/html": [
       "<div>\n",
       "<style scoped>\n",
       "    .dataframe tbody tr th:only-of-type {\n",
       "        vertical-align: middle;\n",
       "    }\n",
       "\n",
       "    .dataframe tbody tr th {\n",
       "        vertical-align: top;\n",
       "    }\n",
       "\n",
       "    .dataframe thead th {\n",
       "        text-align: right;\n",
       "    }\n",
       "</style>\n",
       "<table border=\"1\" class=\"dataframe\">\n",
       "  <thead>\n",
       "    <tr style=\"text-align: right;\">\n",
       "      <th></th>\n",
       "      <th>title</th>\n",
       "      <th>score</th>\n",
       "      <th>id</th>\n",
       "      <th>subreddit</th>\n",
       "      <th>url</th>\n",
       "      <th>num_comments</th>\n",
       "      <th>body</th>\n",
       "      <th>created</th>\n",
       "      <th>date</th>\n",
       "    </tr>\n",
       "  </thead>\n",
       "  <tbody>\n",
       "    <tr>\n",
       "      <th>0</th>\n",
       "      <td>Hurricane Harvey survivors only now getting ba...</td>\n",
       "      <td>1</td>\n",
       "      <td>x2md4s</td>\n",
       "      <td>climatechange</td>\n",
       "      <td>https://www.beaumontenterprise.com/news/articl...</td>\n",
       "      <td>0</td>\n",
       "      <td>NaN</td>\n",
       "      <td>1.661974e+09</td>\n",
       "      <td>2022-08-31 19:30:28</td>\n",
       "    </tr>\n",
       "    <tr>\n",
       "      <th>1</th>\n",
       "      <td>In what condition would the atmosphere have to...</td>\n",
       "      <td>0</td>\n",
       "      <td>x2emjd</td>\n",
       "      <td>climatechange</td>\n",
       "      <td>https://www.reddit.com/r/climatechange/comment...</td>\n",
       "      <td>5</td>\n",
       "      <td>What is currently happening in Earth is it's ...</td>\n",
       "      <td>1.661955e+09</td>\n",
       "      <td>2022-08-31 14:10:44</td>\n",
       "    </tr>\n",
       "    <tr>\n",
       "      <th>2</th>\n",
       "      <td>Has anyone here been personally affected by a ...</td>\n",
       "      <td>26</td>\n",
       "      <td>x27u36</td>\n",
       "      <td>climatechange</td>\n",
       "      <td>https://www.reddit.com/r/climatechange/comment...</td>\n",
       "      <td>21</td>\n",
       "      <td>With what’s happened in Pakistan, ongoing wild...</td>\n",
       "      <td>1.661933e+09</td>\n",
       "      <td>2022-08-31 08:07:27</td>\n",
       "    </tr>\n",
       "  </tbody>\n",
       "</table>\n",
       "</div>"
      ],
      "text/plain": [
       "                                               title  score      id  \\\n",
       "0  Hurricane Harvey survivors only now getting ba...      1  x2md4s   \n",
       "1  In what condition would the atmosphere have to...      0  x2emjd   \n",
       "2  Has anyone here been personally affected by a ...     26  x27u36   \n",
       "\n",
       "       subreddit                                                url  \\\n",
       "0  climatechange  https://www.beaumontenterprise.com/news/articl...   \n",
       "1  climatechange  https://www.reddit.com/r/climatechange/comment...   \n",
       "2  climatechange  https://www.reddit.com/r/climatechange/comment...   \n",
       "\n",
       "   num_comments                                               body  \\\n",
       "0             0                                                NaN   \n",
       "1             5   What is currently happening in Earth is it's ...   \n",
       "2            21  With what’s happened in Pakistan, ongoing wild...   \n",
       "\n",
       "        created                 date  \n",
       "0  1.661974e+09  2022-08-31 19:30:28  \n",
       "1  1.661955e+09  2022-08-31 14:10:44  \n",
       "2  1.661933e+09  2022-08-31 08:07:27  "
      ]
     },
     "execution_count": 301,
     "metadata": {},
     "output_type": "execute_result"
    }
   ],
   "source": [
    "# Reading in dataset from webscraping:\n",
    "climate = pd.read_csv('./data/cc_posts.csv')\n",
    "climate.head(3)"
   ]
  },
  {
   "cell_type": "code",
   "execution_count": 302,
   "id": "43b6ed77-146a-43e1-ba47-e69ec9311873",
   "metadata": {},
   "outputs": [
    {
     "name": "stdout",
     "output_type": "stream",
     "text": [
      "<class 'pandas.core.frame.DataFrame'>\n",
      "RangeIndex: 10161 entries, 0 to 10160\n",
      "Data columns (total 9 columns):\n",
      " #   Column        Non-Null Count  Dtype  \n",
      "---  ------        --------------  -----  \n",
      " 0   title         10161 non-null  object \n",
      " 1   score         10161 non-null  int64  \n",
      " 2   id            10161 non-null  object \n",
      " 3   subreddit     10161 non-null  object \n",
      " 4   url           10161 non-null  object \n",
      " 5   num_comments  10161 non-null  int64  \n",
      " 6   body          4239 non-null   object \n",
      " 7   created       10161 non-null  float64\n",
      " 8   date          10161 non-null  object \n",
      "dtypes: float64(1), int64(2), object(6)\n",
      "memory usage: 714.6+ KB\n"
     ]
    }
   ],
   "source": [
    "climate.info()"
   ]
  },
  {
   "cell_type": "code",
   "execution_count": 303,
   "id": "eb68f310-9327-488d-acc6-0b92bd5b5729",
   "metadata": {},
   "outputs": [
    {
     "data": {
      "text/plain": [
       "count    10161.000000\n",
       "mean        12.490306\n",
       "std         20.334562\n",
       "min          0.000000\n",
       "25%          2.000000\n",
       "50%          5.000000\n",
       "75%         14.000000\n",
       "max        274.000000\n",
       "Name: num_comments, dtype: float64"
      ]
     },
     "execution_count": 303,
     "metadata": {},
     "output_type": "execute_result"
    }
   ],
   "source": [
    "climate['num_comments'].describe()"
   ]
  },
  {
   "cell_type": "code",
   "execution_count": 304,
   "id": "d1666e6e-ed49-4324-8351-086f20d90f24",
   "metadata": {},
   "outputs": [
    {
     "data": {
      "text/plain": [
       "121"
      ]
     },
     "execution_count": 304,
     "metadata": {},
     "output_type": "execute_result"
    }
   ],
   "source": [
    "(climate['num_comments'] == 0).sum()"
   ]
  },
  {
   "cell_type": "code",
   "execution_count": 305,
   "id": "b96ac446-1cb2-468f-a573-3c262e6352bb",
   "metadata": {},
   "outputs": [
    {
     "data": {
      "text/plain": [
       "5.0"
      ]
     },
     "execution_count": 305,
     "metadata": {},
     "output_type": "execute_result"
    }
   ],
   "source": [
    "# Since the problem statement concerns submissions that have at least 1 comment -> removing any posts w/ 0:\n",
    "climate = climate[climate['num_comments'] != 0]\n",
    "climate.num_comments.median()"
   ]
  },
  {
   "cell_type": "markdown",
   "id": "60277a6c-69b8-4da3-bf5c-37a56a2e5dfc",
   "metadata": {
    "tags": []
   },
   "source": [
    "#### Baseline:\n",
    "The **median** comment length is 5, so we are looking to see what words/features of a title can garner a post with 6 or more comments. \n",
    "As a note - I am getting the median *before* doing the train-test split to have a cohesive comparison metric between both sets. "
   ]
  },
  {
   "cell_type": "code",
   "execution_count": 306,
   "id": "dc49603d-07fb-4bec-a0c1-ec9b6ee4afac",
   "metadata": {},
   "outputs": [
    {
     "data": {
      "text/html": [
       "<div>\n",
       "<style scoped>\n",
       "    .dataframe tbody tr th:only-of-type {\n",
       "        vertical-align: middle;\n",
       "    }\n",
       "\n",
       "    .dataframe tbody tr th {\n",
       "        vertical-align: top;\n",
       "    }\n",
       "\n",
       "    .dataframe thead th {\n",
       "        text-align: right;\n",
       "    }\n",
       "</style>\n",
       "<table border=\"1\" class=\"dataframe\">\n",
       "  <thead>\n",
       "    <tr style=\"text-align: right;\">\n",
       "      <th></th>\n",
       "      <th>title</th>\n",
       "      <th>score</th>\n",
       "      <th>id</th>\n",
       "      <th>subreddit</th>\n",
       "      <th>url</th>\n",
       "      <th>num_comments</th>\n",
       "      <th>body</th>\n",
       "      <th>created</th>\n",
       "      <th>date</th>\n",
       "      <th>abv_median</th>\n",
       "    </tr>\n",
       "  </thead>\n",
       "  <tbody>\n",
       "    <tr>\n",
       "      <th>1</th>\n",
       "      <td>In what condition would the atmosphere have to...</td>\n",
       "      <td>0</td>\n",
       "      <td>x2emjd</td>\n",
       "      <td>climatechange</td>\n",
       "      <td>https://www.reddit.com/r/climatechange/comment...</td>\n",
       "      <td>5</td>\n",
       "      <td>What is currently happening in Earth is it's ...</td>\n",
       "      <td>1.661955e+09</td>\n",
       "      <td>2022-08-31 14:10:44</td>\n",
       "      <td>0</td>\n",
       "    </tr>\n",
       "    <tr>\n",
       "      <th>2</th>\n",
       "      <td>Has anyone here been personally affected by a ...</td>\n",
       "      <td>26</td>\n",
       "      <td>x27u36</td>\n",
       "      <td>climatechange</td>\n",
       "      <td>https://www.reddit.com/r/climatechange/comment...</td>\n",
       "      <td>21</td>\n",
       "      <td>With what’s happened in Pakistan, ongoing wild...</td>\n",
       "      <td>1.661933e+09</td>\n",
       "      <td>2022-08-31 08:07:27</td>\n",
       "      <td>1</td>\n",
       "    </tr>\n",
       "    <tr>\n",
       "      <th>3</th>\n",
       "      <td>A prolonged and record heat wave builds over t...</td>\n",
       "      <td>54</td>\n",
       "      <td>x1y1kh</td>\n",
       "      <td>climatechange</td>\n",
       "      <td>https://www.cnn.com/2022/08/30/weather/record-...</td>\n",
       "      <td>10</td>\n",
       "      <td>NaN</td>\n",
       "      <td>1.661902e+09</td>\n",
       "      <td>2022-08-30 23:33:35</td>\n",
       "      <td>1</td>\n",
       "    </tr>\n",
       "  </tbody>\n",
       "</table>\n",
       "</div>"
      ],
      "text/plain": [
       "                                               title  score      id  \\\n",
       "1  In what condition would the atmosphere have to...      0  x2emjd   \n",
       "2  Has anyone here been personally affected by a ...     26  x27u36   \n",
       "3  A prolonged and record heat wave builds over t...     54  x1y1kh   \n",
       "\n",
       "       subreddit                                                url  \\\n",
       "1  climatechange  https://www.reddit.com/r/climatechange/comment...   \n",
       "2  climatechange  https://www.reddit.com/r/climatechange/comment...   \n",
       "3  climatechange  https://www.cnn.com/2022/08/30/weather/record-...   \n",
       "\n",
       "   num_comments                                               body  \\\n",
       "1             5   What is currently happening in Earth is it's ...   \n",
       "2            21  With what’s happened in Pakistan, ongoing wild...   \n",
       "3            10                                                NaN   \n",
       "\n",
       "        created                 date  abv_median  \n",
       "1  1.661955e+09  2022-08-31 14:10:44           0  \n",
       "2  1.661933e+09  2022-08-31 08:07:27           1  \n",
       "3  1.661902e+09  2022-08-30 23:33:35           1  "
      ]
     },
     "execution_count": 306,
     "metadata": {},
     "output_type": "execute_result"
    }
   ],
   "source": [
    "# Create a new column that is a binary target - whether a post has greater than the mean (13 or more comments):\n",
    "climate['abv_median'] = [1 if comment > 5 else 0 for comment in climate['num_comments']]\n",
    "climate.head(3)"
   ]
  },
  {
   "cell_type": "code",
   "execution_count": 307,
   "id": "fa1f4d4e-6390-42fd-8769-bc936f5e879b",
   "metadata": {},
   "outputs": [
    {
     "data": {
      "text/plain": [
       "0    0.525199\n",
       "1    0.474801\n",
       "Name: abv_median, dtype: float64"
      ]
     },
     "execution_count": 307,
     "metadata": {},
     "output_type": "execute_result"
    }
   ],
   "source": [
    "climate['abv_median'].value_counts(normalize=True)"
   ]
  },
  {
   "cell_type": "markdown",
   "id": "a2a24bd3-a3b5-457d-903d-54378e4c5f9b",
   "metadata": {},
   "source": [
    "#### Interpretation:\n",
    "Our model has to predict better than just predicting the majority class - which is that a post has 5 or fewer comments (52.5% of posts)."
   ]
  },
  {
   "cell_type": "code",
   "execution_count": 308,
   "id": "93420e1e-e7e5-42a5-9182-fa0533767011",
   "metadata": {},
   "outputs": [
    {
     "data": {
      "text/html": [
       "<div>\n",
       "<style scoped>\n",
       "    .dataframe tbody tr th:only-of-type {\n",
       "        vertical-align: middle;\n",
       "    }\n",
       "\n",
       "    .dataframe tbody tr th {\n",
       "        vertical-align: top;\n",
       "    }\n",
       "\n",
       "    .dataframe thead th {\n",
       "        text-align: right;\n",
       "    }\n",
       "</style>\n",
       "<table border=\"1\" class=\"dataframe\">\n",
       "  <thead>\n",
       "    <tr style=\"text-align: right;\">\n",
       "      <th></th>\n",
       "      <th>title</th>\n",
       "      <th>score</th>\n",
       "      <th>id</th>\n",
       "      <th>subreddit</th>\n",
       "      <th>url</th>\n",
       "      <th>num_comments</th>\n",
       "      <th>body</th>\n",
       "      <th>created</th>\n",
       "      <th>date</th>\n",
       "      <th>abv_median</th>\n",
       "      <th>title_len</th>\n",
       "    </tr>\n",
       "  </thead>\n",
       "  <tbody>\n",
       "    <tr>\n",
       "      <th>1</th>\n",
       "      <td>In what condition would the atmosphere have to...</td>\n",
       "      <td>0</td>\n",
       "      <td>x2emjd</td>\n",
       "      <td>climatechange</td>\n",
       "      <td>https://www.reddit.com/r/climatechange/comment...</td>\n",
       "      <td>5</td>\n",
       "      <td>What is currently happening in Earth is it's ...</td>\n",
       "      <td>1.661955e+09</td>\n",
       "      <td>2022-08-31 14:10:44</td>\n",
       "      <td>0</td>\n",
       "      <td>91</td>\n",
       "    </tr>\n",
       "    <tr>\n",
       "      <th>2</th>\n",
       "      <td>Has anyone here been personally affected by a ...</td>\n",
       "      <td>26</td>\n",
       "      <td>x27u36</td>\n",
       "      <td>climatechange</td>\n",
       "      <td>https://www.reddit.com/r/climatechange/comment...</td>\n",
       "      <td>21</td>\n",
       "      <td>With what’s happened in Pakistan, ongoing wild...</td>\n",
       "      <td>1.661933e+09</td>\n",
       "      <td>2022-08-31 08:07:27</td>\n",
       "      <td>1</td>\n",
       "      <td>69</td>\n",
       "    </tr>\n",
       "    <tr>\n",
       "      <th>3</th>\n",
       "      <td>A prolonged and record heat wave builds over t...</td>\n",
       "      <td>54</td>\n",
       "      <td>x1y1kh</td>\n",
       "      <td>climatechange</td>\n",
       "      <td>https://www.cnn.com/2022/08/30/weather/record-...</td>\n",
       "      <td>10</td>\n",
       "      <td>NaN</td>\n",
       "      <td>1.661902e+09</td>\n",
       "      <td>2022-08-30 23:33:35</td>\n",
       "      <td>1</td>\n",
       "      <td>69</td>\n",
       "    </tr>\n",
       "  </tbody>\n",
       "</table>\n",
       "</div>"
      ],
      "text/plain": [
       "                                               title  score      id  \\\n",
       "1  In what condition would the atmosphere have to...      0  x2emjd   \n",
       "2  Has anyone here been personally affected by a ...     26  x27u36   \n",
       "3  A prolonged and record heat wave builds over t...     54  x1y1kh   \n",
       "\n",
       "       subreddit                                                url  \\\n",
       "1  climatechange  https://www.reddit.com/r/climatechange/comment...   \n",
       "2  climatechange  https://www.reddit.com/r/climatechange/comment...   \n",
       "3  climatechange  https://www.cnn.com/2022/08/30/weather/record-...   \n",
       "\n",
       "   num_comments                                               body  \\\n",
       "1             5   What is currently happening in Earth is it's ...   \n",
       "2            21  With what’s happened in Pakistan, ongoing wild...   \n",
       "3            10                                                NaN   \n",
       "\n",
       "        created                 date  abv_median  title_len  \n",
       "1  1.661955e+09  2022-08-31 14:10:44           0         91  \n",
       "2  1.661933e+09  2022-08-31 08:07:27           1         69  \n",
       "3  1.661902e+09  2022-08-30 23:33:35           1         69  "
      ]
     },
     "execution_count": 308,
     "metadata": {},
     "output_type": "execute_result"
    }
   ],
   "source": [
    "# Getting the length of the title as a new column:\n",
    "climate['title_len'] = [len(title) for title in climate['title']]\n",
    "climate.head(3)"
   ]
  },
  {
   "cell_type": "markdown",
   "id": "cee3b56e-1cd9-45e4-9809-78742c204be6",
   "metadata": {},
   "source": [
    "### Visualizations:"
   ]
  },
  {
   "cell_type": "code",
   "execution_count": 309,
   "id": "e2a0b1cc-a792-4d2a-8dd8-70b2cce8596b",
   "metadata": {},
   "outputs": [
    {
     "data": {
      "image/png": "[encoded data removed]",
      "text/plain": [
       "<Figure size 864x432 with 1 Axes>"
      ]
     },
     "metadata": {
      "needs_background": "light"
     },
     "output_type": "display_data"
    }
   ],
   "source": [
    "# Looking at distribution of number of comments:\n",
    "climate['num_comments'].hist(figsize=(12,6), bins=30);"
   ]
  },
  {
   "cell_type": "markdown",
   "id": "61eee328-1f8b-4477-b51b-1a510c01f88b",
   "metadata": {},
   "source": [
    "**Interpretation** - very right skewed. I'll explore outliers, but I don't necessarily want to remove them if they are valid because the most highly commented posts could be have very relevant information in them as to what makes a post popular."
   ]
  },
  {
   "cell_type": "code",
   "execution_count": 310,
   "id": "d9d5bc7a-5301-4fd6-a32c-4f32a5639450",
   "metadata": {},
   "outputs": [
    {
     "data": {
      "text/plain": [
       "count    10040.000000\n",
       "mean        12.640837\n",
       "std         20.410175\n",
       "min          1.000000\n",
       "25%          2.000000\n",
       "50%          5.000000\n",
       "75%         14.000000\n",
       "max        274.000000\n",
       "Name: num_comments, dtype: float64"
      ]
     },
     "execution_count": 310,
     "metadata": {},
     "output_type": "execute_result"
    }
   ],
   "source": [
    "climate['num_comments'].describe()"
   ]
  },
  {
   "cell_type": "code",
   "execution_count": 311,
   "id": "aad52709-a3fa-434f-a568-87aa1436be40",
   "metadata": {},
   "outputs": [
    {
     "data": {
      "text/plain": [
       "73.8713615594476"
      ]
     },
     "execution_count": 311,
     "metadata": {},
     "output_type": "execute_result"
    }
   ],
   "source": [
    "# This is an example of what trimming the upper range of comments could look like, but I won't do that yet.\n",
    "climate['num_comments'].mean() + (climate['num_comments'].std() * 3)"
   ]
  },
  {
   "cell_type": "code",
   "execution_count": 312,
   "id": "52a596d3-e849-4aa1-829c-abff19b14e5e",
   "metadata": {},
   "outputs": [
    {
     "data": {
      "text/html": [
       "<div>\n",
       "<style scoped>\n",
       "    .dataframe tbody tr th:only-of-type {\n",
       "        vertical-align: middle;\n",
       "    }\n",
       "\n",
       "    .dataframe tbody tr th {\n",
       "        vertical-align: top;\n",
       "    }\n",
       "\n",
       "    .dataframe thead th {\n",
       "        text-align: right;\n",
       "    }\n",
       "</style>\n",
       "<table border=\"1\" class=\"dataframe\">\n",
       "  <thead>\n",
       "    <tr style=\"text-align: right;\">\n",
       "      <th></th>\n",
       "      <th>title</th>\n",
       "      <th>score</th>\n",
       "      <th>id</th>\n",
       "      <th>subreddit</th>\n",
       "      <th>url</th>\n",
       "      <th>num_comments</th>\n",
       "      <th>body</th>\n",
       "      <th>created</th>\n",
       "      <th>date</th>\n",
       "      <th>abv_median</th>\n",
       "      <th>title_len</th>\n",
       "    </tr>\n",
       "  </thead>\n",
       "  <tbody>\n",
       "    <tr>\n",
       "      <th>841</th>\n",
       "      <td>\"Human activity causes global warming\" is not ...</td>\n",
       "      <td>0</td>\n",
       "      <td>temoug</td>\n",
       "      <td>climatechange</td>\n",
       "      <td>https://www.reddit.com/r/climatechange/comment...</td>\n",
       "      <td>274</td>\n",
       "      <td>In order for a hypothesis to be scientific, it...</td>\n",
       "      <td>1.647343e+09</td>\n",
       "      <td>2022-03-15 11:19:59</td>\n",
       "      <td>1</td>\n",
       "      <td>54</td>\n",
       "    </tr>\n",
       "    <tr>\n",
       "      <th>1505</th>\n",
       "      <td>99.9% agree climate change caused by humans</td>\n",
       "      <td>1</td>\n",
       "      <td>qcv08l</td>\n",
       "      <td>climatechange</td>\n",
       "      <td>https://iopscience.iop.org/article/10.1088/174...</td>\n",
       "      <td>268</td>\n",
       "      <td>NaN</td>\n",
       "      <td>1.634832e+09</td>\n",
       "      <td>2021-10-21 15:59:30</td>\n",
       "      <td>1</td>\n",
       "      <td>43</td>\n",
       "    </tr>\n",
       "    <tr>\n",
       "      <th>365</th>\n",
       "      <td>Debating climate change skeptic and he throws ...</td>\n",
       "      <td>116</td>\n",
       "      <td>vqqiv4</td>\n",
       "      <td>climatechange</td>\n",
       "      <td>https://i.redd.it/21vqzlh6hg991.jpg</td>\n",
       "      <td>250</td>\n",
       "      <td>NaN</td>\n",
       "      <td>1.656881e+09</td>\n",
       "      <td>2022-07-03 20:39:22</td>\n",
       "      <td>1</td>\n",
       "      <td>77</td>\n",
       "    </tr>\n",
       "    <tr>\n",
       "      <th>468</th>\n",
       "      <td>When did the climate warm near as fast or even...</td>\n",
       "      <td>34</td>\n",
       "      <td>vc0k6v</td>\n",
       "      <td>climatechange</td>\n",
       "      <td>https://www.reddit.com/r/climatechange/comment...</td>\n",
       "      <td>247</td>\n",
       "      <td>In a debate about climate change online someon...</td>\n",
       "      <td>1.655203e+09</td>\n",
       "      <td>2022-06-14 10:37:31</td>\n",
       "      <td>1</td>\n",
       "      <td>72</td>\n",
       "    </tr>\n",
       "    <tr>\n",
       "      <th>9634</th>\n",
       "      <td>A 50th anniversary few remember: LBJ's warning...</td>\n",
       "      <td>2</td>\n",
       "      <td>2vsmmw</td>\n",
       "      <td>climatechange</td>\n",
       "      <td>http://www.dailyclimate.org/tdc-newsroom/2015/...</td>\n",
       "      <td>241</td>\n",
       "      <td>NaN</td>\n",
       "      <td>1.423855e+09</td>\n",
       "      <td>2015-02-13 19:15:25</td>\n",
       "      <td>1</td>\n",
       "      <td>64</td>\n",
       "    </tr>\n",
       "    <tr>\n",
       "      <th>96</th>\n",
       "      <td>Hunger Stones? Climate Change?</td>\n",
       "      <td>20</td>\n",
       "      <td>wqh1tk</td>\n",
       "      <td>climatechange</td>\n",
       "      <td>https://www.reddit.com/r/climatechange/comment...</td>\n",
       "      <td>225</td>\n",
       "      <td>Just saw on the news that the drought facing E...</td>\n",
       "      <td>1.660716e+09</td>\n",
       "      <td>2022-08-17 05:57:01</td>\n",
       "      <td>1</td>\n",
       "      <td>30</td>\n",
       "    </tr>\n",
       "    <tr>\n",
       "      <th>1494</th>\n",
       "      <td>If climate change happened during earth time s...</td>\n",
       "      <td>1</td>\n",
       "      <td>qdmn1e</td>\n",
       "      <td>climatechange</td>\n",
       "      <td>https://www.reddit.com/r/climatechange/comment...</td>\n",
       "      <td>220</td>\n",
       "      <td>NaN</td>\n",
       "      <td>1.634926e+09</td>\n",
       "      <td>2021-10-22 18:05:31</td>\n",
       "      <td>1</td>\n",
       "      <td>127</td>\n",
       "    </tr>\n",
       "    <tr>\n",
       "      <th>6479</th>\n",
       "      <td>I'm afraid climate change is going to kill me!...</td>\n",
       "      <td>1</td>\n",
       "      <td>aqdmbz</td>\n",
       "      <td>climatechange</td>\n",
       "      <td>https://www.reddit.com/r/climatechange/comment...</td>\n",
       "      <td>208</td>\n",
       "      <td>Feeling scared? Have you been listening to or ...</td>\n",
       "      <td>1.550104e+09</td>\n",
       "      <td>2019-02-14 00:22:32</td>\n",
       "      <td>1</td>\n",
       "      <td>52</td>\n",
       "    </tr>\n",
       "    <tr>\n",
       "      <th>142</th>\n",
       "      <td>\"What did they do when they had hot summers 50...</td>\n",
       "      <td>73</td>\n",
       "      <td>wki5hn</td>\n",
       "      <td>climatechange</td>\n",
       "      <td>https://www.reddit.com/r/climatechange/comment...</td>\n",
       "      <td>202</td>\n",
       "      <td>Hello, \\n\\nI have a family member who doesn't ...</td>\n",
       "      <td>1.660088e+09</td>\n",
       "      <td>2022-08-09 23:36:06</td>\n",
       "      <td>1</td>\n",
       "      <td>58</td>\n",
       "    </tr>\n",
       "    <tr>\n",
       "      <th>9639</th>\n",
       "      <td>Study: Global warming skeptics know more about...</td>\n",
       "      <td>0</td>\n",
       "      <td>2vq2bz</td>\n",
       "      <td>climatechange</td>\n",
       "      <td>http://www.foxnews.com/science/2015/02/12/stud...</td>\n",
       "      <td>200</td>\n",
       "      <td>NaN</td>\n",
       "      <td>1.423795e+09</td>\n",
       "      <td>2015-02-13 02:37:27</td>\n",
       "      <td>1</td>\n",
       "      <td>62</td>\n",
       "    </tr>\n",
       "  </tbody>\n",
       "</table>\n",
       "</div>"
      ],
      "text/plain": [
       "                                                  title  score      id  \\\n",
       "841   \"Human activity causes global warming\" is not ...      0  temoug   \n",
       "1505        99.9% agree climate change caused by humans      1  qcv08l   \n",
       "365   Debating climate change skeptic and he throws ...    116  vqqiv4   \n",
       "468   When did the climate warm near as fast or even...     34  vc0k6v   \n",
       "9634  A 50th anniversary few remember: LBJ's warning...      2  2vsmmw   \n",
       "96                       Hunger Stones? Climate Change?     20  wqh1tk   \n",
       "1494  If climate change happened during earth time s...      1  qdmn1e   \n",
       "6479  I'm afraid climate change is going to kill me!...      1  aqdmbz   \n",
       "142   \"What did they do when they had hot summers 50...     73  wki5hn   \n",
       "9639  Study: Global warming skeptics know more about...      0  2vq2bz   \n",
       "\n",
       "          subreddit                                                url  \\\n",
       "841   climatechange  https://www.reddit.com/r/climatechange/comment...   \n",
       "1505  climatechange  https://iopscience.iop.org/article/10.1088/174...   \n",
       "365   climatechange                https://i.redd.it/21vqzlh6hg991.jpg   \n",
       "468   climatechange  https://www.reddit.com/r/climatechange/comment...   \n",
       "9634  climatechange  http://www.dailyclimate.org/tdc-newsroom/2015/...   \n",
       "96    climatechange  https://www.reddit.com/r/climatechange/comment...   \n",
       "1494  climatechange  https://www.reddit.com/r/climatechange/comment...   \n",
       "6479  climatechange  https://www.reddit.com/r/climatechange/comment...   \n",
       "142   climatechange  https://www.reddit.com/r/climatechange/comment...   \n",
       "9639  climatechange  http://www.foxnews.com/science/2015/02/12/stud...   \n",
       "\n",
       "      num_comments                                               body  \\\n",
       "841            274  In order for a hypothesis to be scientific, it...   \n",
       "1505           268                                                NaN   \n",
       "365            250                                                NaN   \n",
       "468            247  In a debate about climate change online someon...   \n",
       "9634           241                                                NaN   \n",
       "96             225  Just saw on the news that the drought facing E...   \n",
       "1494           220                                                NaN   \n",
       "6479           208  Feeling scared? Have you been listening to or ...   \n",
       "142            202  Hello, \\n\\nI have a family member who doesn't ...   \n",
       "9639           200                                                NaN   \n",
       "\n",
       "           created                 date  abv_median  title_len  \n",
       "841   1.647343e+09  2022-03-15 11:19:59           1         54  \n",
       "1505  1.634832e+09  2021-10-21 15:59:30           1         43  \n",
       "365   1.656881e+09  2022-07-03 20:39:22           1         77  \n",
       "468   1.655203e+09  2022-06-14 10:37:31           1         72  \n",
       "9634  1.423855e+09  2015-02-13 19:15:25           1         64  \n",
       "96    1.660716e+09  2022-08-17 05:57:01           1         30  \n",
       "1494  1.634926e+09  2021-10-22 18:05:31           1        127  \n",
       "6479  1.550104e+09  2019-02-14 00:22:32           1         52  \n",
       "142   1.660088e+09  2022-08-09 23:36:06           1         58  \n",
       "9639  1.423795e+09  2015-02-13 02:37:27           1         62  "
      ]
     },
     "execution_count": 312,
     "metadata": {},
     "output_type": "execute_result"
    }
   ],
   "source": [
    "# Looking at text for most commented on posts:\n",
    "climate.sort_values(by='num_comments', ascending=False)[:10]"
   ]
  },
  {
   "cell_type": "code",
   "execution_count": 313,
   "id": "947b8803-ba85-40b8-813e-64a73fbbff80",
   "metadata": {},
   "outputs": [
    {
     "data": {
      "text/html": [
       "<div>\n",
       "<style scoped>\n",
       "    .dataframe tbody tr th:only-of-type {\n",
       "        vertical-align: middle;\n",
       "    }\n",
       "\n",
       "    .dataframe tbody tr th {\n",
       "        vertical-align: top;\n",
       "    }\n",
       "\n",
       "    .dataframe thead th {\n",
       "        text-align: right;\n",
       "    }\n",
       "</style>\n",
       "<table border=\"1\" class=\"dataframe\">\n",
       "  <thead>\n",
       "    <tr style=\"text-align: right;\">\n",
       "      <th></th>\n",
       "      <th>title</th>\n",
       "      <th>score</th>\n",
       "      <th>id</th>\n",
       "      <th>subreddit</th>\n",
       "      <th>url</th>\n",
       "      <th>num_comments</th>\n",
       "      <th>body</th>\n",
       "      <th>created</th>\n",
       "      <th>date</th>\n",
       "      <th>abv_median</th>\n",
       "      <th>title_len</th>\n",
       "    </tr>\n",
       "  </thead>\n",
       "  <tbody>\n",
       "    <tr>\n",
       "      <th>4014</th>\n",
       "      <td>y</td>\n",
       "      <td>2</td>\n",
       "      <td>d9l5xl</td>\n",
       "      <td>climatechange</td>\n",
       "      <td>https://i.redd.it/rt8tuscdiyo31.png</td>\n",
       "      <td>1</td>\n",
       "      <td>NaN</td>\n",
       "      <td>1.569512e+09</td>\n",
       "      <td>2019-09-26 15:27:38</td>\n",
       "      <td>0</td>\n",
       "      <td>1</td>\n",
       "    </tr>\n",
       "    <tr>\n",
       "      <th>128</th>\n",
       "      <td>GBR</td>\n",
       "      <td>4</td>\n",
       "      <td>wm5bga</td>\n",
       "      <td>climatechange</td>\n",
       "      <td>https://www.reddit.com/r/climatechange/comment...</td>\n",
       "      <td>9</td>\n",
       "      <td>I've argued here at times about the reported n...</td>\n",
       "      <td>1.660260e+09</td>\n",
       "      <td>2022-08-11 23:15:55</td>\n",
       "      <td>1</td>\n",
       "      <td>3</td>\n",
       "    </tr>\n",
       "    <tr>\n",
       "      <th>4797</th>\n",
       "      <td>Hi!</td>\n",
       "      <td>1</td>\n",
       "      <td>g4jla2</td>\n",
       "      <td>climatechange</td>\n",
       "      <td>https://www.reddit.com/r/climatechange/comment...</td>\n",
       "      <td>6</td>\n",
       "      <td>I’m making a list on what climate change will ...</td>\n",
       "      <td>1.587346e+09</td>\n",
       "      <td>2020-04-20 01:22:18</td>\n",
       "      <td>1</td>\n",
       "      <td>3</td>\n",
       "    </tr>\n",
       "    <tr>\n",
       "      <th>2608</th>\n",
       "      <td>Hmmm</td>\n",
       "      <td>1</td>\n",
       "      <td>o34mxf</td>\n",
       "      <td>climatechange</td>\n",
       "      <td>https://i.redd.it/eosvjziwe4671.jpg</td>\n",
       "      <td>1</td>\n",
       "      <td>NaN</td>\n",
       "      <td>1.624064e+09</td>\n",
       "      <td>2021-06-19 00:55:12</td>\n",
       "      <td>0</td>\n",
       "      <td>4</td>\n",
       "    </tr>\n",
       "    <tr>\n",
       "      <th>5577</th>\n",
       "      <td>hmmm</td>\n",
       "      <td>5</td>\n",
       "      <td>dytujx</td>\n",
       "      <td>climatechange</td>\n",
       "      <td>https://i.redd.it/b900h0k5mqz31.jpg</td>\n",
       "      <td>2</td>\n",
       "      <td>NaN</td>\n",
       "      <td>1.574210e+09</td>\n",
       "      <td>2019-11-20 00:39:35</td>\n",
       "      <td>0</td>\n",
       "      <td>4</td>\n",
       "    </tr>\n",
       "    <tr>\n",
       "      <th>4574</th>\n",
       "      <td>Sad.</td>\n",
       "      <td>1</td>\n",
       "      <td>f16juw</td>\n",
       "      <td>climatechange</td>\n",
       "      <td>https://i.redd.it/0m72csfacvf41.jpg</td>\n",
       "      <td>7</td>\n",
       "      <td>NaN</td>\n",
       "      <td>1.581241e+09</td>\n",
       "      <td>2020-02-09 09:39:26</td>\n",
       "      <td>1</td>\n",
       "      <td>4</td>\n",
       "    </tr>\n",
       "    <tr>\n",
       "      <th>6762</th>\n",
       "      <td>Fear</td>\n",
       "      <td>1</td>\n",
       "      <td>bmbvp7</td>\n",
       "      <td>climatechange</td>\n",
       "      <td>https://www.reddit.com/r/climatechange/comment...</td>\n",
       "      <td>10</td>\n",
       "      <td>Climate Change is something that terrifies me ...</td>\n",
       "      <td>1.557355e+09</td>\n",
       "      <td>2019-05-08 22:34:16</td>\n",
       "      <td>1</td>\n",
       "      <td>4</td>\n",
       "    </tr>\n",
       "    <tr>\n",
       "      <th>6502</th>\n",
       "      <td>Kids</td>\n",
       "      <td>1</td>\n",
       "      <td>aofvsv</td>\n",
       "      <td>climatechange</td>\n",
       "      <td>https://www.reddit.com/r/climatechange/comment...</td>\n",
       "      <td>10</td>\n",
       "      <td>Should I have kids? I know every new person co...</td>\n",
       "      <td>1.549628e+09</td>\n",
       "      <td>2019-02-08 12:05:19</td>\n",
       "      <td>1</td>\n",
       "      <td>4</td>\n",
       "    </tr>\n",
       "    <tr>\n",
       "      <th>8268</th>\n",
       "      <td>PETM</td>\n",
       "      <td>0</td>\n",
       "      <td>99dacy</td>\n",
       "      <td>climatechange</td>\n",
       "      <td>https://www.reddit.com/r/climatechange/comment...</td>\n",
       "      <td>2</td>\n",
       "      <td>I’ve seen it suggests that the global temperat...</td>\n",
       "      <td>1.534944e+09</td>\n",
       "      <td>2018-08-22 13:22:09</td>\n",
       "      <td>0</td>\n",
       "      <td>4</td>\n",
       "    </tr>\n",
       "    <tr>\n",
       "      <th>4031</th>\n",
       "      <td>halp</td>\n",
       "      <td>0</td>\n",
       "      <td>d9bru6</td>\n",
       "      <td>climatechange</td>\n",
       "      <td>https://i.redd.it/99twh0k9yto31.png</td>\n",
       "      <td>3</td>\n",
       "      <td>NaN</td>\n",
       "      <td>1.569456e+09</td>\n",
       "      <td>2019-09-26 00:07:34</td>\n",
       "      <td>0</td>\n",
       "      <td>4</td>\n",
       "    </tr>\n",
       "  </tbody>\n",
       "</table>\n",
       "</div>"
      ],
      "text/plain": [
       "     title  score      id      subreddit  \\\n",
       "4014     y      2  d9l5xl  climatechange   \n",
       "128    GBR      4  wm5bga  climatechange   \n",
       "4797   Hi!      1  g4jla2  climatechange   \n",
       "2608  Hmmm      1  o34mxf  climatechange   \n",
       "5577  hmmm      5  dytujx  climatechange   \n",
       "4574  Sad.      1  f16juw  climatechange   \n",
       "6762  Fear      1  bmbvp7  climatechange   \n",
       "6502  Kids      1  aofvsv  climatechange   \n",
       "8268  PETM      0  99dacy  climatechange   \n",
       "4031  halp      0  d9bru6  climatechange   \n",
       "\n",
       "                                                    url  num_comments  \\\n",
       "4014                https://i.redd.it/rt8tuscdiyo31.png             1   \n",
       "128   https://www.reddit.com/r/climatechange/comment...             9   \n",
       "4797  https://www.reddit.com/r/climatechange/comment...             6   \n",
       "2608                https://i.redd.it/eosvjziwe4671.jpg             1   \n",
       "5577                https://i.redd.it/b900h0k5mqz31.jpg             2   \n",
       "4574                https://i.redd.it/0m72csfacvf41.jpg             7   \n",
       "6762  https://www.reddit.com/r/climatechange/comment...            10   \n",
       "6502  https://www.reddit.com/r/climatechange/comment...            10   \n",
       "8268  https://www.reddit.com/r/climatechange/comment...             2   \n",
       "4031                https://i.redd.it/99twh0k9yto31.png             3   \n",
       "\n",
       "                                                   body       created  \\\n",
       "4014                                                NaN  1.569512e+09   \n",
       "128   I've argued here at times about the reported n...  1.660260e+09   \n",
       "4797  I’m making a list on what climate change will ...  1.587346e+09   \n",
       "2608                                                NaN  1.624064e+09   \n",
       "5577                                                NaN  1.574210e+09   \n",
       "4574                                                NaN  1.581241e+09   \n",
       "6762  Climate Change is something that terrifies me ...  1.557355e+09   \n",
       "6502  Should I have kids? I know every new person co...  1.549628e+09   \n",
       "8268  I’ve seen it suggests that the global temperat...  1.534944e+09   \n",
       "4031                                                NaN  1.569456e+09   \n",
       "\n",
       "                     date  abv_median  title_len  \n",
       "4014  2019-09-26 15:27:38           0          1  \n",
       "128   2022-08-11 23:15:55           1          3  \n",
       "4797  2020-04-20 01:22:18           1          3  \n",
       "2608  2021-06-19 00:55:12           0          4  \n",
       "5577  2019-11-20 00:39:35           0          4  \n",
       "4574  2020-02-09 09:39:26           1          4  \n",
       "6762  2019-05-08 22:34:16           1          4  \n",
       "6502  2019-02-08 12:05:19           1          4  \n",
       "8268  2018-08-22 13:22:09           0          4  \n",
       "4031  2019-09-26 00:07:34           0          4  "
      ]
     },
     "execution_count": 313,
     "metadata": {},
     "output_type": "execute_result"
    }
   ],
   "source": [
    "# Looking at shortest titles: \n",
    "climate.sort_values(by='title_len')[:10]"
   ]
  },
  {
   "cell_type": "code",
   "execution_count": 314,
   "id": "05c396d8-4aaa-47a0-a107-cc03bc4d62d3",
   "metadata": {},
   "outputs": [
    {
     "data": {
      "image/png": "[encoded data removed]",
      "text/plain": [
       "<Figure size 720x360 with 2 Axes>"
      ]
     },
     "metadata": {
      "needs_background": "light"
     },
     "output_type": "display_data"
    }
   ],
   "source": [
    "# Title length by whether above or below median:\n",
    "sns.displot(data=climate, x=\"title_len\", kde=True, col='abv_median');"
   ]
  },
  {
   "cell_type": "code",
   "execution_count": 329,
   "id": "fa512ca6-26b6-45c3-a5c2-5901bd2d37fb",
   "metadata": {},
   "outputs": [],
   "source": [
    "# trial for removing highest len comments:\n",
    "climate = climate[climate['title_len'] < 200]"
   ]
  },
  {
   "cell_type": "code",
   "execution_count": 316,
   "id": "de49c9b2-b0a1-4f85-a813-5b41af978bb0",
   "metadata": {},
   "outputs": [
    {
     "data": {
      "image/png": "[encoded data removed]",
      "text/plain": [
       "<Figure size 720x360 with 2 Axes>"
      ]
     },
     "metadata": {
      "needs_background": "light"
     },
     "output_type": "display_data"
    }
   ],
   "source": [
    "sns.displot(data=climate, x=\"title_len\", kde=True, col='abv_median');"
   ]
  },
  {
   "cell_type": "code",
   "execution_count": 317,
   "id": "e3136e7b-1e1f-4408-a8e3-1302c5a0ba0f",
   "metadata": {},
   "outputs": [
    {
     "data": {
      "text/plain": [
       "(9518, 11)"
      ]
     },
     "execution_count": 317,
     "metadata": {},
     "output_type": "execute_result"
    }
   ],
   "source": [
    "climate.shape"
   ]
  },
  {
   "cell_type": "markdown",
   "id": "329d3be0-0f96-4ee6-b3db-4cb62efc4f57",
   "metadata": {},
   "source": [
    "## Cleaning the text in 'title' data:\n",
    "1) Normalization\n",
    "2) Stop words\n",
    "3) Stemming\n",
    "4) Lemmatization\n",
    "5) Part of Speech (POS) tagging and chunking\n",
    "\n",
    "(inspiration from [this blog post](https://medium.com/towards-data-science/text-cleaning-methods-for-natural-language-processing-f2fc1796e8c7))"
   ]
  },
  {
   "cell_type": "markdown",
   "id": "44159b31-262a-463f-b855-bac64f9b0fce",
   "metadata": {},
   "source": [
    "### 1. Normalization:\n",
    "\n",
    "Remove the 'noise'(non alpha-numeric characters) and lowercase words:"
   ]
  },
  {
   "cell_type": "code",
   "execution_count": 318,
   "id": "a81cbe09-ec28-4c70-bf58-ad07d84c9393",
   "metadata": {
    "tags": []
   },
   "outputs": [],
   "source": [
    "# References from documentation: https://docs.python.org/3/howto/regex.html\n",
    "import re\n",
    "\n",
    "def  clean_text(df, text_field, new_text_field_name):\n",
    "    # lowercase text\n",
    "    df[new_text_field_name] = df[text_field].str.lower()\n",
    "    # remove any non alpha-numeric characters\n",
    "    df[new_text_field_name] = df[new_text_field_name].apply(lambda elem: re.sub(r\"(@[A-Za-z0-9]+)|([^0-9A-Za-z \\t])|(\\w+:\\/\\/\\S+)|^rt|http.+?\", \"\", elem))  \n",
    "    # remove numbers\n",
    "    df[new_text_field_name] = df[new_text_field_name].apply(lambda elem: re.sub(r\"\\d+\", \"\", elem))\n",
    "    \n",
    "    return df\n",
    "data_clean = clean_text(climate, 'title', 'title_clean')"
   ]
  },
  {
   "cell_type": "code",
   "execution_count": 319,
   "id": "0ce9353b-122c-43dd-aa8e-e93ccff24730",
   "metadata": {},
   "outputs": [
    {
     "data": {
      "text/plain": [
       "'burnt by the sun bolivias highlands sizzle under fierce uv rays'"
      ]
     },
     "execution_count": 319,
     "metadata": {},
     "output_type": "execute_result"
    }
   ],
   "source": [
    "data_clean['title_clean'].iloc[888]"
   ]
  },
  {
   "cell_type": "code",
   "execution_count": 320,
   "id": "838588d6-0f4f-4ef1-9826-baaa4a6d289d",
   "metadata": {},
   "outputs": [
    {
     "data": {
      "text/html": [
       "<div>\n",
       "<style scoped>\n",
       "    .dataframe tbody tr th:only-of-type {\n",
       "        vertical-align: middle;\n",
       "    }\n",
       "\n",
       "    .dataframe tbody tr th {\n",
       "        vertical-align: top;\n",
       "    }\n",
       "\n",
       "    .dataframe thead th {\n",
       "        text-align: right;\n",
       "    }\n",
       "</style>\n",
       "<table border=\"1\" class=\"dataframe\">\n",
       "  <thead>\n",
       "    <tr style=\"text-align: right;\">\n",
       "      <th></th>\n",
       "      <th>title</th>\n",
       "      <th>score</th>\n",
       "      <th>id</th>\n",
       "      <th>subreddit</th>\n",
       "      <th>url</th>\n",
       "      <th>num_comments</th>\n",
       "      <th>body</th>\n",
       "      <th>created</th>\n",
       "      <th>date</th>\n",
       "      <th>abv_median</th>\n",
       "      <th>title_len</th>\n",
       "      <th>title_clean</th>\n",
       "      <th>title_tokens</th>\n",
       "    </tr>\n",
       "  </thead>\n",
       "  <tbody>\n",
       "    <tr>\n",
       "      <th>1</th>\n",
       "      <td>In what condition would the atmosphere have to...</td>\n",
       "      <td>0</td>\n",
       "      <td>x2emjd</td>\n",
       "      <td>climatechange</td>\n",
       "      <td>https://www.reddit.com/r/climatechange/comment...</td>\n",
       "      <td>5</td>\n",
       "      <td>What is currently happening in Earth is it's ...</td>\n",
       "      <td>1.661955e+09</td>\n",
       "      <td>2022-08-31 14:10:44</td>\n",
       "      <td>0</td>\n",
       "      <td>91</td>\n",
       "      <td>in what condition would the atmosphere have to...</td>\n",
       "      <td>[in, what, condition, would, the, atmosphere, ...</td>\n",
       "    </tr>\n",
       "    <tr>\n",
       "      <th>2</th>\n",
       "      <td>Has anyone here been personally affected by a ...</td>\n",
       "      <td>26</td>\n",
       "      <td>x27u36</td>\n",
       "      <td>climatechange</td>\n",
       "      <td>https://www.reddit.com/r/climatechange/comment...</td>\n",
       "      <td>21</td>\n",
       "      <td>With what’s happened in Pakistan, ongoing wild...</td>\n",
       "      <td>1.661933e+09</td>\n",
       "      <td>2022-08-31 08:07:27</td>\n",
       "      <td>1</td>\n",
       "      <td>69</td>\n",
       "      <td>has anyone here been personally affected by a ...</td>\n",
       "      <td>[has, anyone, here, been, personally, affected...</td>\n",
       "    </tr>\n",
       "    <tr>\n",
       "      <th>3</th>\n",
       "      <td>A prolonged and record heat wave builds over t...</td>\n",
       "      <td>54</td>\n",
       "      <td>x1y1kh</td>\n",
       "      <td>climatechange</td>\n",
       "      <td>https://www.cnn.com/2022/08/30/weather/record-...</td>\n",
       "      <td>10</td>\n",
       "      <td>NaN</td>\n",
       "      <td>1.661902e+09</td>\n",
       "      <td>2022-08-30 23:33:35</td>\n",
       "      <td>1</td>\n",
       "      <td>69</td>\n",
       "      <td>a prolonged and record heat wave builds over t...</td>\n",
       "      <td>[a, prolonged, and, record, heat, wave, builds...</td>\n",
       "    </tr>\n",
       "  </tbody>\n",
       "</table>\n",
       "</div>"
      ],
      "text/plain": [
       "                                               title  score      id  \\\n",
       "1  In what condition would the atmosphere have to...      0  x2emjd   \n",
       "2  Has anyone here been personally affected by a ...     26  x27u36   \n",
       "3  A prolonged and record heat wave builds over t...     54  x1y1kh   \n",
       "\n",
       "       subreddit                                                url  \\\n",
       "1  climatechange  https://www.reddit.com/r/climatechange/comment...   \n",
       "2  climatechange  https://www.reddit.com/r/climatechange/comment...   \n",
       "3  climatechange  https://www.cnn.com/2022/08/30/weather/record-...   \n",
       "\n",
       "   num_comments                                               body  \\\n",
       "1             5   What is currently happening in Earth is it's ...   \n",
       "2            21  With what’s happened in Pakistan, ongoing wild...   \n",
       "3            10                                                NaN   \n",
       "\n",
       "        created                 date  abv_median  title_len  \\\n",
       "1  1.661955e+09  2022-08-31 14:10:44           0         91   \n",
       "2  1.661933e+09  2022-08-31 08:07:27           1         69   \n",
       "3  1.661902e+09  2022-08-30 23:33:35           1         69   \n",
       "\n",
       "                                         title_clean  \\\n",
       "1  in what condition would the atmosphere have to...   \n",
       "2  has anyone here been personally affected by a ...   \n",
       "3  a prolonged and record heat wave builds over t...   \n",
       "\n",
       "                                        title_tokens  \n",
       "1  [in, what, condition, would, the, atmosphere, ...  \n",
       "2  [has, anyone, here, been, personally, affected...  \n",
       "3  [a, prolonged, and, record, heat, wave, builds...  "
      ]
     },
     "execution_count": 320,
     "metadata": {},
     "output_type": "execute_result"
    }
   ],
   "source": [
    "import nltk \n",
    "from nltk.tokenize import sent_tokenize, word_tokenize\n",
    "data_clean['title_tokens'] = data_clean['title_clean'].apply(lambda x: word_tokenize(x))\n",
    "data_clean.head(3)"
   ]
  },
  {
   "cell_type": "code",
   "execution_count": 321,
   "id": "7c397b02-ab17-4552-a704-af70b3d7318e",
   "metadata": {},
   "outputs": [
    {
     "data": {
      "text/html": [
       "<div>\n",
       "<style scoped>\n",
       "    .dataframe tbody tr th:only-of-type {\n",
       "        vertical-align: middle;\n",
       "    }\n",
       "\n",
       "    .dataframe tbody tr th {\n",
       "        vertical-align: top;\n",
       "    }\n",
       "\n",
       "    .dataframe thead th {\n",
       "        text-align: right;\n",
       "    }\n",
       "</style>\n",
       "<table border=\"1\" class=\"dataframe\">\n",
       "  <thead>\n",
       "    <tr style=\"text-align: right;\">\n",
       "      <th></th>\n",
       "      <th>title</th>\n",
       "      <th>score</th>\n",
       "      <th>id</th>\n",
       "      <th>subreddit</th>\n",
       "      <th>url</th>\n",
       "      <th>num_comments</th>\n",
       "      <th>body</th>\n",
       "      <th>created</th>\n",
       "      <th>date</th>\n",
       "      <th>abv_median</th>\n",
       "      <th>title_len</th>\n",
       "      <th>title_clean</th>\n",
       "      <th>title_tokens</th>\n",
       "      <th>title_tokens_stem</th>\n",
       "    </tr>\n",
       "  </thead>\n",
       "  <tbody>\n",
       "    <tr>\n",
       "      <th>1</th>\n",
       "      <td>In what condition would the atmosphere have to...</td>\n",
       "      <td>0</td>\n",
       "      <td>x2emjd</td>\n",
       "      <td>climatechange</td>\n",
       "      <td>https://www.reddit.com/r/climatechange/comment...</td>\n",
       "      <td>5</td>\n",
       "      <td>What is currently happening in Earth is it's ...</td>\n",
       "      <td>1.661955e+09</td>\n",
       "      <td>2022-08-31 14:10:44</td>\n",
       "      <td>0</td>\n",
       "      <td>91</td>\n",
       "      <td>in what condition would the atmosphere have to...</td>\n",
       "      <td>[in, what, condition, would, the, atmosphere, ...</td>\n",
       "      <td>[in, what, condit, would, the, atmospher, have...</td>\n",
       "    </tr>\n",
       "    <tr>\n",
       "      <th>2</th>\n",
       "      <td>Has anyone here been personally affected by a ...</td>\n",
       "      <td>26</td>\n",
       "      <td>x27u36</td>\n",
       "      <td>climatechange</td>\n",
       "      <td>https://www.reddit.com/r/climatechange/comment...</td>\n",
       "      <td>21</td>\n",
       "      <td>With what’s happened in Pakistan, ongoing wild...</td>\n",
       "      <td>1.661933e+09</td>\n",
       "      <td>2022-08-31 08:07:27</td>\n",
       "      <td>1</td>\n",
       "      <td>69</td>\n",
       "      <td>has anyone here been personally affected by a ...</td>\n",
       "      <td>[has, anyone, here, been, personally, affected...</td>\n",
       "      <td>[ha, anyon, here, been, person, affect, by, a,...</td>\n",
       "    </tr>\n",
       "    <tr>\n",
       "      <th>3</th>\n",
       "      <td>A prolonged and record heat wave builds over t...</td>\n",
       "      <td>54</td>\n",
       "      <td>x1y1kh</td>\n",
       "      <td>climatechange</td>\n",
       "      <td>https://www.cnn.com/2022/08/30/weather/record-...</td>\n",
       "      <td>10</td>\n",
       "      <td>NaN</td>\n",
       "      <td>1.661902e+09</td>\n",
       "      <td>2022-08-30 23:33:35</td>\n",
       "      <td>1</td>\n",
       "      <td>69</td>\n",
       "      <td>a prolonged and record heat wave builds over t...</td>\n",
       "      <td>[a, prolonged, and, record, heat, wave, builds...</td>\n",
       "      <td>[a, prolong, and, record, heat, wave, build, o...</td>\n",
       "    </tr>\n",
       "  </tbody>\n",
       "</table>\n",
       "</div>"
      ],
      "text/plain": [
       "                                               title  score      id  \\\n",
       "1  In what condition would the atmosphere have to...      0  x2emjd   \n",
       "2  Has anyone here been personally affected by a ...     26  x27u36   \n",
       "3  A prolonged and record heat wave builds over t...     54  x1y1kh   \n",
       "\n",
       "       subreddit                                                url  \\\n",
       "1  climatechange  https://www.reddit.com/r/climatechange/comment...   \n",
       "2  climatechange  https://www.reddit.com/r/climatechange/comment...   \n",
       "3  climatechange  https://www.cnn.com/2022/08/30/weather/record-...   \n",
       "\n",
       "   num_comments                                               body  \\\n",
       "1             5   What is currently happening in Earth is it's ...   \n",
       "2            21  With what’s happened in Pakistan, ongoing wild...   \n",
       "3            10                                                NaN   \n",
       "\n",
       "        created                 date  abv_median  title_len  \\\n",
       "1  1.661955e+09  2022-08-31 14:10:44           0         91   \n",
       "2  1.661933e+09  2022-08-31 08:07:27           1         69   \n",
       "3  1.661902e+09  2022-08-30 23:33:35           1         69   \n",
       "\n",
       "                                         title_clean  \\\n",
       "1  in what condition would the atmosphere have to...   \n",
       "2  has anyone here been personally affected by a ...   \n",
       "3  a prolonged and record heat wave builds over t...   \n",
       "\n",
       "                                        title_tokens  \\\n",
       "1  [in, what, condition, would, the, atmosphere, ...   \n",
       "2  [has, anyone, here, been, personally, affected...   \n",
       "3  [a, prolonged, and, record, heat, wave, builds...   \n",
       "\n",
       "                                   title_tokens_stem  \n",
       "1  [in, what, condit, would, the, atmospher, have...  \n",
       "2  [ha, anyon, here, been, person, affect, by, a,...  \n",
       "3  [a, prolong, and, record, heat, wave, build, o...  "
      ]
     },
     "execution_count": 321,
     "metadata": {},
     "output_type": "execute_result"
    }
   ],
   "source": [
    "def word_stemmer(text):\n",
    "    stem_text = [PorterStemmer().stem(i) for i in text]\n",
    "    return stem_text\n",
    "data_clean['title_tokens_stem'] = data_clean['title_tokens'].apply(lambda x: word_stemmer(x))\n",
    "data_clean.head(3)"
   ]
  },
  {
   "cell_type": "code",
   "execution_count": 322,
   "id": "5e2b19b5-bfb8-486b-aefa-f5c1106ba639",
   "metadata": {},
   "outputs": [
    {
     "data": {
      "text/plain": [
       "1        in what condit would the atmospher have to be ...\n",
       "2        ha anyon here been person affect by a major cl...\n",
       "3        a prolong and record heat wave build over the ...\n",
       "4        graph that illustr chang in major weather even...\n",
       "5            start a geolog class teacher deni global warm\n",
       "                               ...                        \n",
       "10156                      a truth tabl about climat chang\n",
       "10157    climat chang studi tie recent heat wave to glo...\n",
       "10158                                                activ\n",
       "10159                 i found a theme song for your reddit\n",
       "10160    pleas read the sidebar of thi subreddit befor ...\n",
       "Name: stem_string, Length: 9518, dtype: object"
      ]
     },
     "execution_count": 322,
     "metadata": {},
     "output_type": "execute_result"
    }
   ],
   "source": [
    "data_clean['stem_string'] = [' '.join(i) for i in data_clean['title_tokens_stem']]\n",
    "data_clean['stem_string']"
   ]
  },
  {
   "cell_type": "code",
   "execution_count": 323,
   "id": "cd30098e-6c9a-4ea5-be6e-368826f02a1c",
   "metadata": {},
   "outputs": [
    {
     "data": {
      "text/html": [
       "<div>\n",
       "<style scoped>\n",
       "    .dataframe tbody tr th:only-of-type {\n",
       "        vertical-align: middle;\n",
       "    }\n",
       "\n",
       "    .dataframe tbody tr th {\n",
       "        vertical-align: top;\n",
       "    }\n",
       "\n",
       "    .dataframe thead th {\n",
       "        text-align: right;\n",
       "    }\n",
       "</style>\n",
       "<table border=\"1\" class=\"dataframe\">\n",
       "  <thead>\n",
       "    <tr style=\"text-align: right;\">\n",
       "      <th></th>\n",
       "      <th>stem_string</th>\n",
       "      <th>title_len</th>\n",
       "      <th>id</th>\n",
       "      <th>abv_median</th>\n",
       "    </tr>\n",
       "  </thead>\n",
       "  <tbody>\n",
       "    <tr>\n",
       "      <th>1</th>\n",
       "      <td>in what condit would the atmospher have to be ...</td>\n",
       "      <td>91</td>\n",
       "      <td>x2emjd</td>\n",
       "      <td>0</td>\n",
       "    </tr>\n",
       "    <tr>\n",
       "      <th>2</th>\n",
       "      <td>ha anyon here been person affect by a major cl...</td>\n",
       "      <td>69</td>\n",
       "      <td>x27u36</td>\n",
       "      <td>1</td>\n",
       "    </tr>\n",
       "    <tr>\n",
       "      <th>3</th>\n",
       "      <td>a prolong and record heat wave build over the ...</td>\n",
       "      <td>69</td>\n",
       "      <td>x1y1kh</td>\n",
       "      <td>1</td>\n",
       "    </tr>\n",
       "  </tbody>\n",
       "</table>\n",
       "</div>"
      ],
      "text/plain": [
       "                                         stem_string  title_len      id  \\\n",
       "1  in what condit would the atmospher have to be ...         91  x2emjd   \n",
       "2  ha anyon here been person affect by a major cl...         69  x27u36   \n",
       "3  a prolong and record heat wave build over the ...         69  x1y1kh   \n",
       "\n",
       "   abv_median  \n",
       "1           0  \n",
       "2           1  \n",
       "3           1  "
      ]
     },
     "execution_count": 323,
     "metadata": {},
     "output_type": "execute_result"
    }
   ],
   "source": [
    "# Creating a new dataframe with most relevant info:\n",
    "key_climate = data_clean[['stem_string', 'title_len', 'id', 'abv_median']]\n",
    "key_climate.head(3)"
   ]
  },
  {
   "cell_type": "code",
   "execution_count": 324,
   "id": "8c0b2c72-7766-4d6f-9fca-5e844ea77715",
   "metadata": {},
   "outputs": [
    {
     "data": {
      "text/plain": [
       "0    4993\n",
       "1    4525\n",
       "Name: abv_median, dtype: int64"
      ]
     },
     "execution_count": 324,
     "metadata": {},
     "output_type": "execute_result"
    }
   ],
   "source": [
    "key_climate['abv_median'].value_counts()"
   ]
  },
  {
   "cell_type": "markdown",
   "id": "3bb47a71-d2f1-4566-a126-99924c1d16bf",
   "metadata": {},
   "source": [
    "## Modeling:"
   ]
  },
  {
   "cell_type": "code",
   "execution_count": 325,
   "id": "ccb9adc4-f0f2-49bf-987d-d75b7109fc23",
   "metadata": {},
   "outputs": [],
   "source": [
    "# random_forest_params = {\n",
    "#     'max_depth' : [None, 5, 10],\n",
    "#     'min_samples_leaf': [2, 3, 5],\n",
    "#     'n_estimators': [100, 125, 150]\n",
    "    \n",
    "# }\n",
    "\n",
    "# gs = GridSearchCV(\n",
    "#     RandomForestClassifier(), param_grid=random_forest_params, verbose=1)\n",
    "\n",
    "# gs.fit(X_train_cv, y_train)\n",
    "\n",
    "# print(gs.best_score_, gs.best_params_)\n",
    "\n",
    "# gs.score(X_train_cv, y_train), gs.score(X_test_cv, y_test)"
   ]
  },
  {
   "cell_type": "markdown",
   "id": "7644ec76-7ebb-411b-8ddc-b233d313f34d",
   "metadata": {},
   "source": [
    "**results** from Gridsearch: Fitting 5 folds for each of 27 candidates, totalling 135 fits\n",
    "\n",
    "0.5822045152722444 {'max_depth': None, 'min_samples_leaf': 3, 'n_estimators': 100}\n",
    "\n",
    "(0.7698539176626826, 0.5828685258964144)\n"
   ]
  },
  {
   "cell_type": "code",
   "execution_count": 326,
   "id": "72c16be3-5e4a-459d-9e04-88e4742dc387",
   "metadata": {},
   "outputs": [],
   "source": [
    "X = key_climate['stem_string']\n",
    "y = key_climate['abv_median']\n",
    "\n",
    "X_train, X_test, y_train, y_test = train_test_split(X, y, stratify=y, train_size=.75, random_state=42)\n",
    "\n",
    "# cv = CountVectorizer(stop_words='english', binary=True, ngram_range=(1,2))\n",
    "cv= CountVectorizer()\n",
    "cv.fit(X_train)\n",
    "\n",
    "X_train_cv = cv.transform(X_train)\n",
    "X_test_cv = cv.transform(X_test)"
   ]
  },
  {
   "cell_type": "code",
   "execution_count": 327,
   "id": "a0dbe15f-f516-4896-8e68-648e7e25a1a0",
   "metadata": {},
   "outputs": [
    {
     "data": {
      "text/plain": [
       "(0.9957971420565985, 0.5529411764705883)"
      ]
     },
     "execution_count": 327,
     "metadata": {},
     "output_type": "execute_result"
    }
   ],
   "source": [
    "dtc = DecisionTreeClassifier(random_state=42)\n",
    "dtc.fit(X_train_cv, y_train)\n",
    "dtc.score(X_train_cv, y_train), dtc.score(X_test_cv, y_test)"
   ]
  },
  {
   "cell_type": "code",
   "execution_count": 328,
   "id": "5623a8f4-c53d-401f-943a-75d5ce5e94f5",
   "metadata": {},
   "outputs": [
    {
     "data": {
      "text/plain": [
       "(0.7597366209022135, 0.5991596638655462)"
      ]
     },
     "execution_count": 328,
     "metadata": {},
     "output_type": "execute_result"
    }
   ],
   "source": [
    "rfc = RandomForestClassifier(random_state=42, min_samples_leaf=3, n_estimators=150)\n",
    "rfc.fit(X_train_cv, y_train)\n",
    "rfc.score(X_train_cv, y_train), rfc.score(X_test_cv, y_test)"
   ]
  },
  {
   "cell_type": "code",
   "execution_count": 298,
   "id": "255b7faa-a1b9-47e6-98d5-b484a1f1e0f5",
   "metadata": {
    "tags": []
   },
   "outputs": [
    {
     "data": {
      "text/plain": [
       "(0.6513457556935818, 0.6001655629139073)"
      ]
     },
     "execution_count": 298,
     "metadata": {},
     "output_type": "execute_result"
    }
   ],
   "source": [
    "abc = AdaBoostClassifier(random_state=42, n_estimators=150)\n",
    "\n",
    "abc.fit(X_train_cv, y_train)\n",
    "abc.score(X_train_cv, y_train), abc.score(X_test_cv, y_test)"
   ]
  },
  {
   "cell_type": "markdown",
   "id": "cb77151e-7a8c-4814-8769-9de76a6b9164",
   "metadata": {},
   "source": [
    "scores from text_clean, ngram_range(1,2)\n",
    "DTC: .996 .531\n",
    "RFC: .765 .598\n",
    "ABC: .676 .603\n",
    "\n",
    "scores from text_clean, stop_words='english', binary=True, ngram_range=(1,2):\n",
    "DTC: .993 .558\n",
    "RFC: .756 .580\n",
    "ABC: .646 .555\n",
    "\n",
    "scores from stem_string, all default:\n",
    "DTC: .996 .549\n",
    "RFC: .765 .604\n",
    "ABC: .670 .600\n",
    "\n",
    "scores from stem_string, ngram_range=(1,2)\n",
    "DTC: .996 .548\n",
    "RFC: .770 .609\n",
    "ABC: .674 .596"
   ]
  },
  {
   "cell_type": "code",
   "execution_count": 299,
   "id": "2c428927-5ad4-497f-b582-037a1277124c",
   "metadata": {},
   "outputs": [
    {
     "data": {
      "text/plain": [
       "(0.9857832988267771, 0.6047185430463576)"
      ]
     },
     "execution_count": 299,
     "metadata": {},
     "output_type": "execute_result"
    }
   ],
   "source": [
    "from sklearn.pipeline import Pipeline\n",
    "from sklearn.linear_model import LogisticRegression\n",
    "\n",
    "\n",
    "pipe = Pipeline([\n",
    "    ('cv', CountVectorizer(ngram_range=(1,2))),\n",
    "    ('lr', LogisticRegression(max_iter=1000)),\n",
    "])\n",
    "\n",
    "pipe.fit(X_train, y_train)\n",
    "pipe.score(X_train, y_train), pipe.score(X_test, y_test)"
   ]
  },
  {
   "cell_type": "code",
   "execution_count": null,
   "id": "30f2ee2c-8a56-4161-ac8a-ce0a2c914015",
   "metadata": {},
   "outputs": [],
   "source": []
  }
 ],
 "metadata": {
  "kernelspec": {
   "display_name": "Python 3 (ipykernel)",
   "language": "python",
   "name": "python3"
  },
  "language_info": {
   "codemirror_mode": {
    "name": "ipython",
    "version": 3
   },
   "file_extension": ".py",
   "mimetype": "text/x-python",
   "name": "python",
   "nbconvert_exporter": "python",
   "pygments_lexer": "ipython3",
   "version": "3.9.12"
  }
 },
 "nbformat": 4,
 "nbformat_minor": 5
}
