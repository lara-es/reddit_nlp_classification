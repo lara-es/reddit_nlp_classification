{
 "cells": [
  {
   "cell_type": "markdown",
   "id": "c42eb008-5d1f-4e1f-ad66-92c6dad1c456",
   "metadata": {},
   "source": [
    "#### Imports:"
   ]
  },
  {
   "cell_type": "code",
   "execution_count": 186,
   "id": "93be79a5-cf36-4484-9703-358fd368d7e9",
   "metadata": {},
   "outputs": [],
   "source": [
    "import pandas as pd\n",
    "import numpy as np\n",
    "\n",
    "from sklearn.ensemble import RandomForestClassifier, ExtraTreesClassifier, AdaBoostClassifier\n",
    "from sklearn.feature_extraction.text import CountVectorizer, TfidfVectorizer, TfidfTransformer\n",
    "from sklearn.model_selection import train_test_split, GridSearchCV \n",
    "from sklearn.tree import export_text, DecisionTreeClassifier\n",
    "from sklearn.metrics import accuracy_score, ConfusionMatrixDisplay, confusion_matrix\n",
    "from sklearn.preprocessing import StandardScaler, FunctionTransformer\n",
    "\n",
    "from sklearn.pipeline import Pipeline\n",
    "from sklearn.linear_model import LogisticRegression\n",
    "\n",
    "from sklearn.naive_bayes import MultinomialNB\n",
    "from sklearn.metrics import classification_report\n",
    "\n",
    "from sklearn.compose import ColumnTransformer"
   ]
  },
  {
   "cell_type": "code",
   "execution_count": 114,
   "id": "435f9157-c2ec-4845-98bf-1471bdbd7160",
   "metadata": {},
   "outputs": [
    {
     "name": "stdout",
     "output_type": "stream",
     "text": [
      "(9658, 14)\n"
     ]
    },
    {
     "data": {
      "text/html": [
       "<div>\n",
       "<style scoped>\n",
       "    .dataframe tbody tr th:only-of-type {\n",
       "        vertical-align: middle;\n",
       "    }\n",
       "\n",
       "    .dataframe tbody tr th {\n",
       "        vertical-align: top;\n",
       "    }\n",
       "\n",
       "    .dataframe thead th {\n",
       "        text-align: right;\n",
       "    }\n",
       "</style>\n",
       "<table border=\"1\" class=\"dataframe\">\n",
       "  <thead>\n",
       "    <tr style=\"text-align: right;\">\n",
       "      <th></th>\n",
       "      <th>title</th>\n",
       "      <th>score</th>\n",
       "      <th>subreddit</th>\n",
       "      <th>url</th>\n",
       "      <th>num_comments</th>\n",
       "      <th>body</th>\n",
       "      <th>created</th>\n",
       "      <th>date</th>\n",
       "      <th>abv_median</th>\n",
       "      <th>title_len</th>\n",
       "      <th>body_len</th>\n",
       "      <th>external_link</th>\n",
       "      <th>title_clean</th>\n",
       "      <th>stem_string</th>\n",
       "    </tr>\n",
       "  </thead>\n",
       "  <tbody>\n",
       "    <tr>\n",
       "      <th>0</th>\n",
       "      <td>In what condition would the atmosphere have to...</td>\n",
       "      <td>0</td>\n",
       "      <td>climatechange</td>\n",
       "      <td>https://www.reddit.com/r/climatechange/comment...</td>\n",
       "      <td>5</td>\n",
       "      <td>What is currently happening in Earth is it's ...</td>\n",
       "      <td>1.661955e+09</td>\n",
       "      <td>2022-08-31 14:10:44</td>\n",
       "      <td>0</td>\n",
       "      <td>91</td>\n",
       "      <td>195</td>\n",
       "      <td>0</td>\n",
       "      <td>in what condition would the atmosphere have to...</td>\n",
       "      <td>in what condit would the atmospher have to be ...</td>\n",
       "    </tr>\n",
       "    <tr>\n",
       "      <th>1</th>\n",
       "      <td>Has anyone here been personally affected by a ...</td>\n",
       "      <td>26</td>\n",
       "      <td>climatechange</td>\n",
       "      <td>https://www.reddit.com/r/climatechange/comment...</td>\n",
       "      <td>21</td>\n",
       "      <td>With what’s happened in Pakistan, ongoing wild...</td>\n",
       "      <td>1.661933e+09</td>\n",
       "      <td>2022-08-31 08:07:27</td>\n",
       "      <td>1</td>\n",
       "      <td>69</td>\n",
       "      <td>217</td>\n",
       "      <td>0</td>\n",
       "      <td>has anyone here been personally affected by a ...</td>\n",
       "      <td>ha anyon here been person affect by a major cl...</td>\n",
       "    </tr>\n",
       "    <tr>\n",
       "      <th>2</th>\n",
       "      <td>A prolonged and record heat wave builds over t...</td>\n",
       "      <td>54</td>\n",
       "      <td>climatechange</td>\n",
       "      <td>https://www.cnn.com/2022/08/30/weather/record-...</td>\n",
       "      <td>10</td>\n",
       "      <td>0</td>\n",
       "      <td>1.661902e+09</td>\n",
       "      <td>2022-08-30 23:33:35</td>\n",
       "      <td>1</td>\n",
       "      <td>69</td>\n",
       "      <td>1</td>\n",
       "      <td>1</td>\n",
       "      <td>a prolonged and record heat wave builds over t...</td>\n",
       "      <td>a prolong and record heat wave build over the ...</td>\n",
       "    </tr>\n",
       "  </tbody>\n",
       "</table>\n",
       "</div>"
      ],
      "text/plain": [
       "                                               title  score      subreddit  \\\n",
       "0  In what condition would the atmosphere have to...      0  climatechange   \n",
       "1  Has anyone here been personally affected by a ...     26  climatechange   \n",
       "2  A prolonged and record heat wave builds over t...     54  climatechange   \n",
       "\n",
       "                                                 url  num_comments  \\\n",
       "0  https://www.reddit.com/r/climatechange/comment...             5   \n",
       "1  https://www.reddit.com/r/climatechange/comment...            21   \n",
       "2  https://www.cnn.com/2022/08/30/weather/record-...            10   \n",
       "\n",
       "                                                body       created  \\\n",
       "0   What is currently happening in Earth is it's ...  1.661955e+09   \n",
       "1  With what’s happened in Pakistan, ongoing wild...  1.661933e+09   \n",
       "2                                                  0  1.661902e+09   \n",
       "\n",
       "                  date  abv_median  title_len  body_len  external_link  \\\n",
       "0  2022-08-31 14:10:44           0         91       195              0   \n",
       "1  2022-08-31 08:07:27           1         69       217              0   \n",
       "2  2022-08-30 23:33:35           1         69         1              1   \n",
       "\n",
       "                                         title_clean  \\\n",
       "0  in what condition would the atmosphere have to...   \n",
       "1  has anyone here been personally affected by a ...   \n",
       "2  a prolonged and record heat wave builds over t...   \n",
       "\n",
       "                                         stem_string  \n",
       "0  in what condit would the atmospher have to be ...  \n",
       "1  ha anyon here been person affect by a major cl...  \n",
       "2  a prolong and record heat wave build over the ...  "
      ]
     },
     "execution_count": 114,
     "metadata": {},
     "output_type": "execute_result"
    }
   ],
   "source": [
    "# Reading in data, and checking that it looks ok:\n",
    "cleaned_title = pd.read_csv('./data/cleaned_data.csv')\n",
    "print(cleaned_title.shape)\n",
    "cleaned_title.head(3)"
   ]
  },
  {
   "cell_type": "code",
   "execution_count": 115,
   "id": "08fe09ef-03ba-47c2-9188-2865cdfd0b05",
   "metadata": {},
   "outputs": [
    {
     "data": {
      "text/plain": [
       "title            0\n",
       "score            0\n",
       "subreddit        0\n",
       "url              0\n",
       "num_comments     0\n",
       "body             0\n",
       "created          0\n",
       "date             0\n",
       "abv_median       0\n",
       "title_len        0\n",
       "body_len         0\n",
       "external_link    0\n",
       "title_clean      3\n",
       "stem_string      3\n",
       "dtype: int64"
      ]
     },
     "execution_count": 115,
     "metadata": {},
     "output_type": "execute_result"
    }
   ],
   "source": [
    "# Checking for null values:\n",
    "cleaned_title.isnull().sum()"
   ]
  },
  {
   "cell_type": "code",
   "execution_count": 116,
   "id": "3480f132-3c6a-4cf5-ae3e-0fb99054f19c",
   "metadata": {},
   "outputs": [],
   "source": [
    "# Dropping null values in 'title_clean'\n",
    "i = cleaned_title[(cleaned_title.title_clean.isnull())].index\n",
    "cleaned_title.drop(i, inplace=True)"
   ]
  },
  {
   "cell_type": "code",
   "execution_count": 117,
   "id": "f2247eb3-d1b0-4b00-aea0-70a1660e7ebe",
   "metadata": {},
   "outputs": [
    {
     "data": {
      "text/plain": [
       "title            0\n",
       "score            0\n",
       "subreddit        0\n",
       "url              0\n",
       "num_comments     0\n",
       "body             0\n",
       "created          0\n",
       "date             0\n",
       "abv_median       0\n",
       "title_len        0\n",
       "body_len         0\n",
       "external_link    0\n",
       "title_clean      0\n",
       "stem_string      0\n",
       "dtype: int64"
      ]
     },
     "execution_count": 117,
     "metadata": {},
     "output_type": "execute_result"
    }
   ],
   "source": [
    "cleaned_title.isnull().sum()"
   ]
  },
  {
   "cell_type": "markdown",
   "id": "53085b96-135a-4cc3-bb17-a8a5c53ba489",
   "metadata": {
    "tags": []
   },
   "source": [
    "# Modeling:\n",
    "Baseline - As a reminder, I am trying to make more accurate predictions than just predicting the majority class - which is that a post has 5 or fewer comments (52.5% of posts)."
   ]
  },
  {
   "cell_type": "markdown",
   "id": "6d603a8c-5c28-47ae-93fe-496cd6b8fb55",
   "metadata": {},
   "source": [
    "#### Test-Train_Split"
   ]
  },
  {
   "cell_type": "code",
   "execution_count": 118,
   "id": "27aae52e-90f1-4cff-a8ba-3f8c9948b492",
   "metadata": {},
   "outputs": [],
   "source": [
    "X = cleaned_title['stem_string']\n",
    "y = cleaned_title['abv_median']\n",
    "\n",
    "X_train, X_test, y_train, y_test = train_test_split(X, y, stratify=y, train_size=.75, random_state=42)"
   ]
  },
  {
   "cell_type": "markdown",
   "id": "164d80b4-ddef-4e17-b859-cb3618a801d4",
   "metadata": {},
   "source": [
    "## Title text only:"
   ]
  },
  {
   "cell_type": "markdown",
   "id": "b8f64c6a-d8b9-493b-8f78-25363f64852a",
   "metadata": {
    "tags": []
   },
   "source": [
    "### CountVectorizer:"
   ]
  },
  {
   "cell_type": "code",
   "execution_count": 119,
   "id": "398c16dc-a5eb-48a6-ba55-57197ddfa1ff",
   "metadata": {},
   "outputs": [],
   "source": [
    "# I also tried using these hyperparameters, but they didn't improve the model: stop_words='english', binary=True, ngram_range=(1,2)\n",
    "cv= CountVectorizer(binary=True)\n",
    "cv.fit(X_train)\n",
    "\n",
    "X_train_cv = cv.transform(X_train)\n",
    "X_test_cv = cv.transform(X_test)"
   ]
  },
  {
   "cell_type": "code",
   "execution_count": 120,
   "id": "a2e9965d-950e-4fac-aa11-3f1a79491829",
   "metadata": {},
   "outputs": [
    {
     "data": {
      "text/plain": [
       "(0.6094462090871426, 0.5658657829328915)"
      ]
     },
     "execution_count": 120,
     "metadata": {},
     "output_type": "execute_result"
    }
   ],
   "source": [
    "dtc = DecisionTreeClassifier(random_state=42, max_depth=10)\n",
    "dtc.fit(X_train_cv, y_train)\n",
    "dtc.score(X_train_cv, y_train), dtc.score(X_test_cv, y_test)"
   ]
  },
  {
   "cell_type": "code",
   "execution_count": 121,
   "id": "94f4971e-10d4-48e6-9e91-d3a2a175ecc7",
   "metadata": {
    "tags": []
   },
   "outputs": [
    {
     "data": {
      "text/plain": [
       "(0.655572434746582, 0.5932062966031483)"
      ]
     },
     "execution_count": 121,
     "metadata": {},
     "output_type": "execute_result"
    }
   ],
   "source": [
    "abc = AdaBoostClassifier(random_state=42, n_estimators=150)\n",
    "\n",
    "abc.fit(X_train_cv, y_train)\n",
    "abc.score(X_train_cv, y_train), abc.score(X_test_cv, y_test)"
   ]
  },
  {
   "cell_type": "code",
   "execution_count": 122,
   "id": "ba97ce8c-7efe-493c-ae6c-6ef0a4857667",
   "metadata": {},
   "outputs": [],
   "source": [
    "random_forest_params = {\n",
    "    'max_depth' : [None, 5, 10],\n",
    "    'min_samples_leaf': [1, 2, 3, 5],\n",
    "    'n_estimators': [100, 125, 150]\n",
    "    \n",
    "}\n",
    "\n",
    "gs = GridSearchCV(\n",
    "    RandomForestClassifier(), param_grid=random_forest_params, verbose=1)\n",
    "\n",
    "gs.fit(X_train_cv, y_train)\n",
    "\n",
    "print(gs.best_score_, gs.best_params_)\n",
    "\n",
    "gs.score(X_train_cv, y_train), gs.score(X_test_cv, y_test)"
   ]
  },
  {
   "cell_type": "code",
   "execution_count": 123,
   "id": "95461152-2f44-46b4-a03d-b85c77c17653",
   "metadata": {},
   "outputs": [],
   "source": [
    "cv_vocab = cv.get_feature_names_out()\n",
    "\n",
    "ft_imp_df = pd.DataFrame(\n",
    "    abc.feature_importances_,\n",
    "    index=cv_vocab,\n",
    "    columns=['ft imps']\n",
    ")"
   ]
  },
  {
   "cell_type": "code",
   "execution_count": 125,
   "id": "27f239af-eaa2-4bbe-85e2-459e0ba68003",
   "metadata": {},
   "outputs": [
    {
     "data": {
      "text/plain": [
       "(6906, 150)"
      ]
     },
     "execution_count": 125,
     "metadata": {},
     "output_type": "execute_result"
    }
   ],
   "source": [
    "# Only 150 of the 6906 features were factored in\n",
    "len(abc.feature_importances_), sum(ft_imp_df['ft imps'] != 0)"
   ]
  },
  {
   "cell_type": "code",
   "execution_count": 127,
   "id": "a56b404e-0160-4fc8-953c-f1fa29e32f81",
   "metadata": {},
   "outputs": [
    {
     "data": {
      "text/html": [
       "<div>\n",
       "<style scoped>\n",
       "    .dataframe tbody tr th:only-of-type {\n",
       "        vertical-align: middle;\n",
       "    }\n",
       "\n",
       "    .dataframe tbody tr th {\n",
       "        vertical-align: top;\n",
       "    }\n",
       "\n",
       "    .dataframe thead th {\n",
       "        text-align: right;\n",
       "    }\n",
       "</style>\n",
       "<table border=\"1\" class=\"dataframe\">\n",
       "  <thead>\n",
       "    <tr style=\"text-align: right;\">\n",
       "      <th></th>\n",
       "      <th>ft imps</th>\n",
       "    </tr>\n",
       "  </thead>\n",
       "  <tbody>\n",
       "    <tr>\n",
       "      <th>1970</th>\n",
       "      <td>0.006667</td>\n",
       "    </tr>\n",
       "    <tr>\n",
       "      <th>pari</th>\n",
       "      <td>0.006667</td>\n",
       "    </tr>\n",
       "    <tr>\n",
       "      <th>penguin</th>\n",
       "      <td>0.006667</td>\n",
       "    </tr>\n",
       "    <tr>\n",
       "      <th>podcast</th>\n",
       "      <td>0.006667</td>\n",
       "    </tr>\n",
       "    <tr>\n",
       "      <th>polici</th>\n",
       "      <td>0.006667</td>\n",
       "    </tr>\n",
       "  </tbody>\n",
       "</table>\n",
       "</div>"
      ],
      "text/plain": [
       "          ft imps\n",
       "1970     0.006667\n",
       "pari     0.006667\n",
       "penguin  0.006667\n",
       "podcast  0.006667\n",
       "polici   0.006667"
      ]
     },
     "execution_count": 127,
     "metadata": {},
     "output_type": "execute_result"
    }
   ],
   "source": [
    "ft_imp_df[ft_imp_df['ft imps'] != 0].sort_values(by='ft imps', ascending=True).head()"
   ]
  },
  {
   "cell_type": "code",
   "execution_count": 129,
   "id": "824a55c9-3b8f-4339-a247-49ce824df7d4",
   "metadata": {},
   "outputs": [
    {
     "data": {
      "text/html": [
       "<div>\n",
       "<style scoped>\n",
       "    .dataframe tbody tr th:only-of-type {\n",
       "        vertical-align: middle;\n",
       "    }\n",
       "\n",
       "    .dataframe tbody tr th {\n",
       "        vertical-align: top;\n",
       "    }\n",
       "\n",
       "    .dataframe thead th {\n",
       "        text-align: right;\n",
       "    }\n",
       "</style>\n",
       "<table border=\"1\" class=\"dataframe\">\n",
       "  <thead>\n",
       "    <tr style=\"text-align: right;\">\n",
       "      <th></th>\n",
       "      <th>ft imps</th>\n",
       "    </tr>\n",
       "  </thead>\n",
       "  <tbody>\n",
       "    <tr>\n",
       "      <th>1970</th>\n",
       "      <td>0.006667</td>\n",
       "    </tr>\n",
       "    <tr>\n",
       "      <th>or</th>\n",
       "      <td>0.006667</td>\n",
       "    </tr>\n",
       "    <tr>\n",
       "      <th>pari</th>\n",
       "      <td>0.006667</td>\n",
       "    </tr>\n",
       "    <tr>\n",
       "      <th>penguin</th>\n",
       "      <td>0.006667</td>\n",
       "    </tr>\n",
       "    <tr>\n",
       "      <th>podcast</th>\n",
       "      <td>0.006667</td>\n",
       "    </tr>\n",
       "  </tbody>\n",
       "</table>\n",
       "</div>"
      ],
      "text/plain": [
       "          ft imps\n",
       "1970     0.006667\n",
       "or       0.006667\n",
       "pari     0.006667\n",
       "penguin  0.006667\n",
       "podcast  0.006667"
      ]
     },
     "execution_count": 129,
     "metadata": {},
     "output_type": "execute_result"
    }
   ],
   "source": [
    "ft_imp_df[ft_imp_df['ft imps'] != 0].sort_values(by='ft imps', ascending=False).head()"
   ]
  },
  {
   "cell_type": "markdown",
   "id": "8590f5b4-39f4-43d4-a665-14b20c165559",
   "metadata": {},
   "source": [
    "**Interpretation** of feature importances above:\n",
    "\n",
    "All 150 features that were not set to 0 were scored at equal weight."
   ]
  },
  {
   "cell_type": "code",
   "execution_count": 130,
   "id": "2a05e772-d057-4306-bc22-00f5dac3374f",
   "metadata": {},
   "outputs": [
    {
     "data": {
      "text/plain": [
       "(0.7686783593426322, 0.5985915492957746)"
      ]
     },
     "execution_count": 130,
     "metadata": {},
     "output_type": "execute_result"
    }
   ],
   "source": [
    "rfc = RandomForestClassifier(random_state=42, min_samples_leaf=3, n_estimators=100)\n",
    "rfc.fit(X_train_cv, y_train)\n",
    "rfc.score(X_train_cv, y_train), rfc.score(X_test_cv, y_test)"
   ]
  },
  {
   "cell_type": "code",
   "execution_count": 131,
   "id": "00cba371-5b97-480b-ac1b-0b9ef2b68e8d",
   "metadata": {},
   "outputs": [
    {
     "data": {
      "text/plain": [
       "(0.7713023063112829, 0.6014913007456504)"
      ]
     },
     "execution_count": 131,
     "metadata": {},
     "output_type": "execute_result"
    }
   ],
   "source": [
    "# This is the best performing model for text so far -\n",
    "pipe = Pipeline([\n",
    "    ('cv', CountVectorizer(ngram_range=(1,2))),\n",
    "    ('ss', StandardScaler(with_mean=False)),\n",
    "    ('rfc', RandomForestClassifier(random_state=42, min_samples_leaf=3, n_estimators=100)),\n",
    "])\n",
    "\n",
    "pipe.fit(X_train, y_train)\n",
    "pipe.score(X_train, y_train), pipe.score(X_test, y_test)"
   ]
  },
  {
   "cell_type": "code",
   "execution_count": 132,
   "id": "48d19495-5442-4a5a-840e-d7fe42d08e84",
   "metadata": {},
   "outputs": [],
   "source": [
    "pipe_vocab = pipe['cv'].get_feature_names_out()\n",
    "\n",
    "pipe_ft_imp_df = pd.DataFrame(\n",
    "    pipe['rfc'].feature_importances_,\n",
    "    index=pipe_vocab,\n",
    "    columns=['ft imps']\n",
    ")"
   ]
  },
  {
   "cell_type": "code",
   "execution_count": 83,
   "id": "15fc92ba-f39e-4eb9-b751-d1f3071093a8",
   "metadata": {},
   "outputs": [
    {
     "data": {
      "text/plain": [
       "(46369, 3745)"
      ]
     },
     "execution_count": 83,
     "metadata": {},
     "output_type": "execute_result"
    }
   ],
   "source": [
    "len(pipe['rfc'].feature_importances_), sum(pipe_ft_imp_df['ft imps'] != 0)"
   ]
  },
  {
   "cell_type": "code",
   "execution_count": 85,
   "id": "00e0b9e2-257c-4250-8413-ff527a8fdd00",
   "metadata": {},
   "outputs": [
    {
     "data": {
      "text/html": [
       "<div>\n",
       "<style scoped>\n",
       "    .dataframe tbody tr th:only-of-type {\n",
       "        vertical-align: middle;\n",
       "    }\n",
       "\n",
       "    .dataframe tbody tr th {\n",
       "        vertical-align: top;\n",
       "    }\n",
       "\n",
       "    .dataframe thead th {\n",
       "        text-align: right;\n",
       "    }\n",
       "</style>\n",
       "<table border=\"1\" class=\"dataframe\">\n",
       "  <thead>\n",
       "    <tr style=\"text-align: right;\">\n",
       "      <th></th>\n",
       "      <th>ft imps</th>\n",
       "    </tr>\n",
       "  </thead>\n",
       "  <tbody>\n",
       "    <tr>\n",
       "      <th>what</th>\n",
       "      <td>0.013108</td>\n",
       "    </tr>\n",
       "    <tr>\n",
       "      <th>co2</th>\n",
       "      <td>0.007906</td>\n",
       "    </tr>\n",
       "    <tr>\n",
       "      <th>is</th>\n",
       "      <td>0.006822</td>\n",
       "    </tr>\n",
       "    <tr>\n",
       "      <th>trump</th>\n",
       "      <td>0.006733</td>\n",
       "    </tr>\n",
       "    <tr>\n",
       "      <th>my</th>\n",
       "      <td>0.006662</td>\n",
       "    </tr>\n",
       "    <tr>\n",
       "      <th>are</th>\n",
       "      <td>0.005794</td>\n",
       "    </tr>\n",
       "    <tr>\n",
       "      <th>about</th>\n",
       "      <td>0.005342</td>\n",
       "    </tr>\n",
       "    <tr>\n",
       "      <th>question</th>\n",
       "      <td>0.005176</td>\n",
       "    </tr>\n",
       "    <tr>\n",
       "      <th>are we</th>\n",
       "      <td>0.004923</td>\n",
       "    </tr>\n",
       "    <tr>\n",
       "      <th>skeptic</th>\n",
       "      <td>0.004571</td>\n",
       "    </tr>\n",
       "  </tbody>\n",
       "</table>\n",
       "</div>"
      ],
      "text/plain": [
       "           ft imps\n",
       "what      0.013108\n",
       "co2       0.007906\n",
       "is        0.006822\n",
       "trump     0.006733\n",
       "my        0.006662\n",
       "are       0.005794\n",
       "about     0.005342\n",
       "question  0.005176\n",
       "are we    0.004923\n",
       "skeptic   0.004571"
      ]
     },
     "execution_count": 85,
     "metadata": {},
     "output_type": "execute_result"
    }
   ],
   "source": [
    "# These are the most impactful features that the model has identified for whether a post will be abv_median:\n",
    "pipe_ft_imp_df[pipe_ft_imp_df['ft imps'] != 0].sort_values(by='ft imps', ascending=False).head(10)"
   ]
  },
  {
   "cell_type": "code",
   "execution_count": 86,
   "id": "3e2961fc-0f6d-42ab-9151-f243f4fa7858",
   "metadata": {},
   "outputs": [
    {
     "data": {
      "text/html": [
       "<div>\n",
       "<style scoped>\n",
       "    .dataframe tbody tr th:only-of-type {\n",
       "        vertical-align: middle;\n",
       "    }\n",
       "\n",
       "    .dataframe tbody tr th {\n",
       "        vertical-align: top;\n",
       "    }\n",
       "\n",
       "    .dataframe thead th {\n",
       "        text-align: right;\n",
       "    }\n",
       "</style>\n",
       "<table border=\"1\" class=\"dataframe\">\n",
       "  <thead>\n",
       "    <tr style=\"text-align: right;\">\n",
       "      <th></th>\n",
       "      <th>ft imps</th>\n",
       "    </tr>\n",
       "  </thead>\n",
       "  <tbody>\n",
       "    <tr>\n",
       "      <th>atlant meridion</th>\n",
       "      <td>2.270379e-08</td>\n",
       "    </tr>\n",
       "    <tr>\n",
       "      <th>is global</th>\n",
       "      <td>3.487944e-08</td>\n",
       "    </tr>\n",
       "    <tr>\n",
       "      <th>oil industri</th>\n",
       "      <td>6.636940e-08</td>\n",
       "    </tr>\n",
       "    <tr>\n",
       "      <th>cope with</th>\n",
       "      <td>6.906445e-08</td>\n",
       "    </tr>\n",
       "    <tr>\n",
       "      <th>get better</th>\n",
       "      <td>1.780416e-07</td>\n",
       "    </tr>\n",
       "    <tr>\n",
       "      <th>vegan</th>\n",
       "      <td>2.440160e-07</td>\n",
       "    </tr>\n",
       "    <tr>\n",
       "      <th>question for</th>\n",
       "      <td>2.554893e-07</td>\n",
       "    </tr>\n",
       "    <tr>\n",
       "      <th>about to</th>\n",
       "      <td>3.107698e-07</td>\n",
       "    </tr>\n",
       "    <tr>\n",
       "      <th>noth about</th>\n",
       "      <td>4.330478e-07</td>\n",
       "    </tr>\n",
       "    <tr>\n",
       "      <th>give me</th>\n",
       "      <td>4.807405e-07</td>\n",
       "    </tr>\n",
       "  </tbody>\n",
       "</table>\n",
       "</div>"
      ],
      "text/plain": [
       "                      ft imps\n",
       "atlant meridion  2.270379e-08\n",
       "is global        3.487944e-08\n",
       "oil industri     6.636940e-08\n",
       "cope with        6.906445e-08\n",
       "get better       1.780416e-07\n",
       "vegan            2.440160e-07\n",
       "question for     2.554893e-07\n",
       "about to         3.107698e-07\n",
       "noth about       4.330478e-07\n",
       "give me          4.807405e-07"
      ]
     },
     "execution_count": 86,
     "metadata": {},
     "output_type": "execute_result"
    }
   ],
   "source": [
    "# And the smallest, yet non-zero, features:\n",
    "pipe_ft_imp_df[pipe_ft_imp_df['ft imps'] != 0].sort_values(by='ft imps', ascending=True).head(10)"
   ]
  },
  {
   "cell_type": "markdown",
   "id": "a30325f5-09bd-4b31-abef-fb9600f5612f",
   "metadata": {},
   "source": [
    "Recorded scores from various trials done on Decision Tree, Random Forest, and AdaBoost classifier models:\n",
    "(the format is modelname: train score, test score)\n",
    "\n",
    "scores from text_clean, ngram_range(1,2)\n",
    "\n",
    "* DTC: .996 .531\n",
    "* RFC: .765 .598\n",
    "* ABC: .676 .603\n",
    "\n",
    "scores from text_clean, stop_words='english', binary=True, ngram_range=(1,2):\n",
    "\n",
    "* DTC: .993 .558\n",
    "* RFC: .756 .580\n",
    "* ABC: .646 .555\n",
    "\n",
    "scores from stem_string, all default:\n",
    "\n",
    "* DTC: .996 .549\n",
    "* RFC: .765 .604\n",
    "* ABC: .670 .600\n",
    "\n",
    "scores from stem_string, ngram_range=(1,2)\n",
    "\n",
    "* DTC: .996 .548\n",
    "* RFC: .770 .609\n",
    "* ABC: .674 .596"
   ]
  },
  {
   "cell_type": "markdown",
   "id": "7d18fe3a-c1e3-4207-8a7b-7335fb0abe13",
   "metadata": {},
   "source": [
    "### TfidVectorizer:"
   ]
  },
  {
   "cell_type": "code",
   "execution_count": 54,
   "id": "9eba359d-1d45-409b-8a1c-e88b92fa8efd",
   "metadata": {},
   "outputs": [],
   "source": [
    "tf = TfidfVectorizer(ngram_range=(1,2)) #stop_words=\"english\", \n",
    "\n",
    "# fit & transform\n",
    "tf.fit(X_train)\n",
    "X_train_tf = tf.transform(X_train)\n",
    "X_test_tf = tf.transform(X_test)"
   ]
  },
  {
   "cell_type": "code",
   "execution_count": 177,
   "id": "7a7524e9-0d1f-445a-ad43-ddac7cba6159",
   "metadata": {},
   "outputs": [
    {
     "data": {
      "text/plain": [
       "(0.995580720894904, 0.5430820215410108)"
      ]
     },
     "execution_count": 177,
     "metadata": {},
     "output_type": "execute_result"
    }
   ],
   "source": [
    "dtc = DecisionTreeClassifier(random_state=42)\n",
    "dtc.fit(X_train_tf, y_train)\n",
    "dtc.score(X_train_tf, y_train), dtc.score(X_test_tf, y_test)"
   ]
  },
  {
   "cell_type": "code",
   "execution_count": 178,
   "id": "cac40c02-37f9-4a8b-90d5-4feac45c72b8",
   "metadata": {},
   "outputs": [
    {
     "data": {
      "text/plain": [
       "(0.8348294434470377, 0.5782932891466446)"
      ]
     },
     "execution_count": 178,
     "metadata": {},
     "output_type": "execute_result"
    }
   ],
   "source": [
    "rfc = RandomForestClassifier(random_state=42, min_samples_leaf=3, n_estimators=100)\n",
    "rfc.fit(X_train_tf, y_train)\n",
    "rfc.score(X_train_tf, y_train), rfc.score(X_test_tf, y_test)"
   ]
  },
  {
   "cell_type": "code",
   "execution_count": 153,
   "id": "d49362f5-cc82-40d4-b60f-78e069e84fdf",
   "metadata": {},
   "outputs": [
    {
     "data": {
      "text/plain": [
       "(0.6914790774754868, 0.5654515327257663)"
      ]
     },
     "execution_count": 153,
     "metadata": {},
     "output_type": "execute_result"
    }
   ],
   "source": [
    "abc = AdaBoostClassifier(random_state=42, n_estimators=150)\n",
    "\n",
    "abc.fit(X_train_tf, y_train)\n",
    "abc.score(X_train_tf, y_train), abc.score(X_test_tf, y_test)"
   ]
  },
  {
   "cell_type": "code",
   "execution_count": 144,
   "id": "98c45e4d-8da7-43e5-b2ce-b3f0cbb12b90",
   "metadata": {},
   "outputs": [
    {
     "data": {
      "text/plain": [
       "Pipeline(steps=[('vect', CountVectorizer()), ('tfidf', TfidfTransformer()),\n",
       "                ('clf', MultinomialNB())])"
      ]
     },
     "execution_count": 144,
     "metadata": {},
     "output_type": "execute_result"
    }
   ],
   "source": [
    "# Inspiration from: https://towardsdatascience.com/multi-class-text-classification-model-comparison-and-selection-5eb066197568\n",
    "X = cleaned_title['stem_string']\n",
    "y = cleaned_title['abv_median']\n",
    "\n",
    "X_train, X_test, y_train, y_test = train_test_split(X, y, stratify=y, train_size=.75, random_state=42)\n",
    "\n",
    "nb = Pipeline([('vect', CountVectorizer()),\n",
    "               ('tfidf', TfidfTransformer()),\n",
    "               ('clf', MultinomialNB()),\n",
    "              ])\n",
    "nb.fit(X_train, y_train)"
   ]
  },
  {
   "cell_type": "code",
   "execution_count": 150,
   "id": "91436b3e-582a-45b2-a991-90ba1af9d799",
   "metadata": {},
   "outputs": [
    {
     "data": {
      "text/plain": [
       "(0.8121806380334208, 0.5907207953603977)"
      ]
     },
     "execution_count": 150,
     "metadata": {},
     "output_type": "execute_result"
    }
   ],
   "source": [
    "nb.score(X_train, y_train), nb.score(X_test, y_test)"
   ]
  },
  {
   "cell_type": "code",
   "execution_count": 145,
   "id": "f8d87dae-5941-43f4-99e2-894b00db3555",
   "metadata": {},
   "outputs": [
    {
     "name": "stdout",
     "output_type": "stream",
     "text": [
      "accuracy 0.5907207953603977\n",
      "              precision    recall  f1-score   support\n",
      "\n",
      "           0       0.61      0.60      0.61      1266\n",
      "           1       0.57      0.58      0.57      1148\n",
      "\n",
      "    accuracy                           0.59      2414\n",
      "   macro avg       0.59      0.59      0.59      2414\n",
      "weighted avg       0.59      0.59      0.59      2414\n",
      "\n",
      "CPU times: user 39.1 ms, sys: 3.35 ms, total: 42.5 ms\n",
      "Wall time: 41.7 ms\n"
     ]
    }
   ],
   "source": [
    "y_pred = nb.predict(X_test)\n",
    "\n",
    "print('accuracy %s' % accuracy_score(y_pred, y_test))\n",
    "print(classification_report(y_test, y_pred))"
   ]
  },
  {
   "cell_type": "code",
   "execution_count": 146,
   "id": "03f10eb2-e9ce-4922-a82a-18ca52644617",
   "metadata": {},
   "outputs": [
    {
     "data": {
      "text/plain": [
       "Pipeline(steps=[('vect', CountVectorizer()), ('tfidf', TfidfTransformer()),\n",
       "                ('clf', LogisticRegression(max_iter=200, n_jobs=1))])"
      ]
     },
     "execution_count": 146,
     "metadata": {},
     "output_type": "execute_result"
    }
   ],
   "source": [
    "logreg = Pipeline([('vect', CountVectorizer()),\n",
    "                ('tfidf', TfidfTransformer()),\n",
    "                ('clf', LogisticRegression(max_iter=200, n_jobs=1)),\n",
    "               ])\n",
    "\n",
    "logreg.fit(X_train, y_train)"
   ]
  },
  {
   "cell_type": "code",
   "execution_count": 147,
   "id": "8110faf8-698c-4f04-8d6a-daa127e7e93c",
   "metadata": {},
   "outputs": [
    {
     "data": {
      "text/plain": [
       "(0.7750310730562077, 0.5907207953603977)"
      ]
     },
     "execution_count": 147,
     "metadata": {},
     "output_type": "execute_result"
    }
   ],
   "source": [
    "logreg.score(X_train, y_train), logreg.score(X_test, y_test)"
   ]
  },
  {
   "cell_type": "code",
   "execution_count": 148,
   "id": "a5d84ec1-fea2-40e2-aff9-8818f84e2e0f",
   "metadata": {},
   "outputs": [
    {
     "name": "stdout",
     "output_type": "stream",
     "text": [
      "accuracy 0.5907207953603977\n",
      "              precision    recall  f1-score   support\n",
      "\n",
      "           0       0.60      0.67      0.63      1266\n",
      "           1       0.58      0.50      0.54      1148\n",
      "\n",
      "    accuracy                           0.59      2414\n",
      "   macro avg       0.59      0.59      0.59      2414\n",
      "weighted avg       0.59      0.59      0.59      2414\n",
      "\n",
      "CPU times: user 35.7 ms, sys: 2.43 ms, total: 38.1 ms\n",
      "Wall time: 37.6 ms\n"
     ]
    }
   ],
   "source": [
    "%%time\n",
    "\n",
    "y_pred = logreg.predict(X_test)\n",
    "\n",
    "print('accuracy %s' % accuracy_score(y_pred, y_test))\n",
    "print(classification_report(y_test, y_pred))"
   ]
  },
  {
   "cell_type": "markdown",
   "id": "7dd3a8db-803e-42f3-be19-be8ee1e3db90",
   "metadata": {},
   "source": [
    "## Other (non-text) Features:"
   ]
  },
  {
   "cell_type": "code",
   "execution_count": 89,
   "id": "b3dd5979-06bb-461d-97e2-6d5d0c11f965",
   "metadata": {},
   "outputs": [
    {
     "data": {
      "text/plain": [
       "Index(['title', 'score', 'subreddit', 'url', 'num_comments', 'body', 'created',\n",
       "       'date', 'abv_median', 'title_len', 'body_len', 'external_link',\n",
       "       'title_clean', 'stem_string'],\n",
       "      dtype='object')"
      ]
     },
     "execution_count": 89,
     "metadata": {},
     "output_type": "execute_result"
    }
   ],
   "source": [
    "cleaned_title.columns"
   ]
  },
  {
   "cell_type": "code",
   "execution_count": 90,
   "id": "f6df720e-5ac0-4478-9a68-74c708a4f588",
   "metadata": {},
   "outputs": [],
   "source": [
    "features = ['score', 'title_len', 'body_len', 'external_link']"
   ]
  },
  {
   "cell_type": "code",
   "execution_count": 164,
   "id": "2a155b4e-4f53-4584-9838-a20628e3913a",
   "metadata": {},
   "outputs": [],
   "source": [
    "X = cleaned_title[features]\n",
    "y = cleaned_title['abv_median']\n",
    "\n",
    "X_train, X_test, y_train, y_test = train_test_split(X, y, train_size=.75, random_state=42)"
   ]
  },
  {
   "cell_type": "code",
   "execution_count": 92,
   "id": "4a9f268d-22d5-4561-8c4e-570013eaf436",
   "metadata": {},
   "outputs": [],
   "source": [
    "feat_logreg = Pipeline([('ss', StandardScaler()),\n",
    "                ('lr', LogisticRegression(max_iter=200, n_jobs=1)),\n",
    "               ])"
   ]
  },
  {
   "cell_type": "code",
   "execution_count": 93,
   "id": "8b153ef1-0cce-4032-8bf2-6224c0226084",
   "metadata": {},
   "outputs": [
    {
     "data": {
      "text/plain": [
       "(0.6398287529346776, 0.6317315658657829)"
      ]
     },
     "execution_count": 93,
     "metadata": {},
     "output_type": "execute_result"
    }
   ],
   "source": [
    "feat_logreg.fit(X_train, y_train)\n",
    "feat_logreg.score(X_train, y_train), feat_logreg.score(X_test, y_test)"
   ]
  },
  {
   "cell_type": "code",
   "execution_count": 94,
   "id": "266a22fb-1709-4cb1-8ce6-327f7e2c4ab8",
   "metadata": {},
   "outputs": [
    {
     "name": "stdout",
     "output_type": "stream",
     "text": [
      "accuracy 0.6317315658657829\n",
      "              precision    recall  f1-score   support\n",
      "\n",
      "           0       0.65      0.62      0.64      1254\n",
      "           1       0.61      0.65      0.63      1160\n",
      "\n",
      "    accuracy                           0.63      2414\n",
      "   macro avg       0.63      0.63      0.63      2414\n",
      "weighted avg       0.63      0.63      0.63      2414\n",
      "\n"
     ]
    }
   ],
   "source": [
    "y_pred = feat_logreg.predict(X_test)\n",
    "\n",
    "print('accuracy %s' % accuracy_score(y_pred, y_test))\n",
    "print(classification_report(y_test, y_pred))"
   ]
  },
  {
   "cell_type": "code",
   "execution_count": 142,
   "id": "85ce9145-0125-4271-ba49-b2aa4203f658",
   "metadata": {},
   "outputs": [
    {
     "data": {
      "text/html": [
       "<div>\n",
       "<style scoped>\n",
       "    .dataframe tbody tr th:only-of-type {\n",
       "        vertical-align: middle;\n",
       "    }\n",
       "\n",
       "    .dataframe tbody tr th {\n",
       "        vertical-align: top;\n",
       "    }\n",
       "\n",
       "    .dataframe thead th {\n",
       "        text-align: right;\n",
       "    }\n",
       "</style>\n",
       "<table border=\"1\" class=\"dataframe\">\n",
       "  <thead>\n",
       "    <tr style=\"text-align: right;\">\n",
       "      <th></th>\n",
       "      <th>score</th>\n",
       "      <th>title_len</th>\n",
       "      <th>body_len</th>\n",
       "      <th>external_link</th>\n",
       "    </tr>\n",
       "  </thead>\n",
       "  <tbody>\n",
       "    <tr>\n",
       "      <th>0</th>\n",
       "      <td>0.681998</td>\n",
       "      <td>0.098498</td>\n",
       "      <td>0.167752</td>\n",
       "      <td>-0.435614</td>\n",
       "    </tr>\n",
       "  </tbody>\n",
       "</table>\n",
       "</div>"
      ],
      "text/plain": [
       "      score  title_len  body_len  external_link\n",
       "0  0.681998   0.098498  0.167752      -0.435614"
      ]
     },
     "execution_count": 142,
     "metadata": {},
     "output_type": "execute_result"
    }
   ],
   "source": [
    "# Looking at logistic regression coefficients for numeric features:\n",
    "coefs = feat_logreg['lr'].coef_\n",
    "\n",
    "num_ft_imp_df = pd.DataFrame(\n",
    "    coefs,\n",
    "    columns=features\n",
    ")\n",
    "\n",
    "num_ft_imp_df"
   ]
  },
  {
   "cell_type": "markdown",
   "id": "bc7dcc91-8e69-4393-985c-98a00d28f42a",
   "metadata": {},
   "source": [
    "Interpretation: score, title length, body length are positively correlated with likelihood of receiving more than 5 comments, and if it's an external link, that is negatively correlated with likelihood of receiving more than 5 comments. "
   ]
  },
  {
   "cell_type": "code",
   "execution_count": 166,
   "id": "f35875b5-12d9-4be4-9fb8-69a88195af3f",
   "metadata": {},
   "outputs": [
    {
     "data": {
      "text/plain": [
       "(0.7989228007181328, 0.6064623032311516)"
      ]
     },
     "execution_count": 166,
     "metadata": {},
     "output_type": "execute_result"
    }
   ],
   "source": [
    "rfc2 = RandomForestClassifier(random_state=42, min_samples_leaf=3, n_estimators=100)\n",
    "rfc2.fit(X_train, y_train)\n",
    "rfc2.score(X_train, y_train), rfc2.score(X_test, y_test)"
   ]
  },
  {
   "cell_type": "code",
   "execution_count": 168,
   "id": "99ca52f7-9c3b-455a-b434-b65211dcbf36",
   "metadata": {},
   "outputs": [
    {
     "data": {
      "text/plain": [
       "(0.6601298163237121, 0.6317315658657829)"
      ]
     },
     "execution_count": 168,
     "metadata": {},
     "output_type": "execute_result"
    }
   ],
   "source": [
    "abc2 = AdaBoostClassifier(random_state=42, n_estimators=150)\n",
    "\n",
    "abc2.fit(X_train, y_train)\n",
    "abc2.score(X_train, y_train), abc2.score(X_test, y_test)"
   ]
  },
  {
   "cell_type": "code",
   "execution_count": 169,
   "id": "66d6b6c0-5502-4076-89db-c2bbd74e2f39",
   "metadata": {},
   "outputs": [
    {
     "name": "stdout",
     "output_type": "stream",
     "text": [
      "accuracy 0.6317315658657829\n",
      "              precision    recall  f1-score   support\n",
      "\n",
      "           0       0.64      0.67      0.66      1254\n",
      "           1       0.62      0.59      0.61      1160\n",
      "\n",
      "    accuracy                           0.63      2414\n",
      "   macro avg       0.63      0.63      0.63      2414\n",
      "weighted avg       0.63      0.63      0.63      2414\n",
      "\n"
     ]
    }
   ],
   "source": [
    "y_pred = abc2.predict(X_test)\n",
    "\n",
    "print('accuracy %s' % accuracy_score(y_pred, y_test))\n",
    "print(classification_report(y_test, y_pred))"
   ]
  },
  {
   "cell_type": "markdown",
   "id": "239c1119-288a-466f-9349-28899d46ce95",
   "metadata": {
    "tags": []
   },
   "source": [
    "## Text AND other features:\n",
    "\n",
    "Using ColumnTransformer and FunctionTransformer to apply different transformations to different columns:"
   ]
  },
  {
   "cell_type": "code",
   "execution_count": 171,
   "id": "8c229a0c-635b-4bb9-80b1-92d58e00649c",
   "metadata": {},
   "outputs": [],
   "source": [
    "# Inspiration from: https://stackoverflow.com/questions\n",
    "# /61179217/sklearn-pipeline-all-the-input-array-dimensions-for-the-concatenation-axis-must\n",
    "\n",
    "vectorizer_params = dict(ngram_range=(1, 2), binary=True)\n",
    "\n",
    "TitleTextProcessor = Pipeline(steps=[\n",
    "    (\"squeez\", FunctionTransformer(lambda x: x.squeeze())),\n",
    "    (\"vect\", CountVectorizer(**vectorizer_params)),\n",
    "    (\"tfidf\", TfidfTransformer()),\n",
    "    (\"toarray\", FunctionTransformer(lambda x: x.toarray())),\n",
    "])\n",
    "\n",
    "numeric_transformer = Pipeline(steps=[\n",
    "    ('scaler', StandardScaler())\n",
    "])\n",
    "\n",
    "preprocessor = ColumnTransformer(transformers=[\n",
    "    ('title', TitleTextProcessor, ['stem_string']),\n",
    "    ('numeric', numeric_transformer, ['score', 'title_len', 'body_len', 'external_link'])\n",
    "])\n",
    "\n",
    "pipeline = Pipeline(\n",
    "    steps=[(\"preprocessor\", preprocessor), \n",
    "           (\"classifier\", LogisticRegression(max_iter=200, random_state=42))]\n",
    ")"
   ]
  },
  {
   "cell_type": "code",
   "execution_count": 171,
   "id": "85891985-b37d-403b-a77c-21582a4ca9f0",
   "metadata": {},
   "outputs": [
    {
     "data": {
      "text/plain": [
       "Pipeline(steps=[('preprocessor',\n",
       "                 ColumnTransformer(transformers=[('title',\n",
       "                                                  Pipeline(steps=[('squeez',\n",
       "                                                                   FunctionTransformer(func=<function <lambda> at 0x7ffde6f860d0>)),\n",
       "                                                                  ('vect',\n",
       "                                                                   CountVectorizer(binary=True,\n",
       "                                                                                   ngram_range=(1,\n",
       "                                                                                                2))),\n",
       "                                                                  ('tfidf',\n",
       "                                                                   TfidfTransformer()),\n",
       "                                                                  ('toarray',\n",
       "                                                                   FunctionTransformer(func=<function <lambda> at 0x7ffd05e94790>))]),\n",
       "                                                  ['stem_string']),\n",
       "                                                 ('numeric',\n",
       "                                                  Pipeline(steps=[('scaler',\n",
       "                                                                   StandardScaler())]),\n",
       "                                                  ['score', 'title_len',\n",
       "                                                   'body_len',\n",
       "                                                   'external_link'])])),\n",
       "                ('classifier',\n",
       "                 LogisticRegression(max_iter=200, random_state=42))])"
      ]
     },
     "execution_count": 171,
     "metadata": {},
     "output_type": "execute_result"
    }
   ],
   "source": [
    "X = cleaned_title[['stem_string', 'score', 'title_len', 'body_len', 'external_link']]\n",
    "y = cleaned_title['abv_median']\n",
    "\n",
    "X_train, X_test, y_train, y_test = train_test_split(X, y, stratify=y, train_size=.75, random_state=42)\n",
    "\n",
    "pipeline.fit(X_train, y_train)"
   ]
  },
  {
   "cell_type": "code",
   "execution_count": 172,
   "id": "441abf2d-de4b-493f-b580-a3cc415c2135",
   "metadata": {},
   "outputs": [
    {
     "name": "stdout",
     "output_type": "stream",
     "text": [
      "Model score: 0.661\n"
     ]
    }
   ],
   "source": [
    "print(\"Model score: %.3f\" % pipeline.score(X_test, y_test))"
   ]
  },
  {
   "cell_type": "code",
   "execution_count": 173,
   "id": "5c714c87-4586-49d4-8502-c9beea836883",
   "metadata": {},
   "outputs": [
    {
     "name": "stdout",
     "output_type": "stream",
     "text": [
      "accuracy 0.6607290803645401\n",
      "              precision    recall  f1-score   support\n",
      "\n",
      "           0       0.66      0.71      0.69      1266\n",
      "           1       0.66      0.60      0.63      1148\n",
      "\n",
      "    accuracy                           0.66      2414\n",
      "   macro avg       0.66      0.66      0.66      2414\n",
      "weighted avg       0.66      0.66      0.66      2414\n",
      "\n",
      "CPU times: user 911 ms, sys: 610 ms, total: 1.52 s\n",
      "Wall time: 1.16 s\n"
     ]
    }
   ],
   "source": [
    "y_pred = pipeline.predict(X_test)\n",
    "\n",
    "print('accuracy %s' % accuracy_score(y_pred, y_test))\n",
    "print(classification_report(y_test, y_pred))"
   ]
  },
  {
   "cell_type": "code",
   "execution_count": 184,
   "id": "63b3307b-2410-40bf-9da8-6be8f62ef15e",
   "metadata": {},
   "outputs": [
    {
     "data": {
      "image/png": "[encoded data removed]",
      "text/plain": [
       "<Figure size 432x288 with 2 Axes>"
      ]
     },
     "metadata": {
      "needs_background": "light"
     },
     "output_type": "display_data"
    }
   ],
   "source": [
    "ConfusionMatrixDisplay.from_estimator(pipeline, X_test, y_test, normalize='true');"
   ]
  },
  {
   "cell_type": "code",
   "execution_count": 187,
   "id": "2cf323d2-3963-4871-949d-e5bfb4d11de6",
   "metadata": {},
   "outputs": [
    {
     "data": {
      "text/plain": [
       "(901, 365, 454, 694)"
      ]
     },
     "execution_count": 187,
     "metadata": {},
     "output_type": "execute_result"
    }
   ],
   "source": [
    "tn, fp, fn, tp = confusion_matrix(y_test, pipeline.predict(X_test)).flatten()\n",
    "tn, fp, fn, tp "
   ]
  },
  {
   "cell_type": "code",
   "execution_count": 193,
   "id": "861e9823-3b8d-4f17-b5c4-9ba37cc821ac",
   "metadata": {},
   "outputs": [
    {
     "name": "stdout",
     "output_type": "stream",
     "text": [
      "Recall score:  0.6045296167247387\n",
      "Precision score:  0.6553352219074599\n",
      "False Positive rate:  0.2883096366508689\n"
     ]
    }
   ],
   "source": [
    "print('Recall score: ', (tp / (tp + fn)))\n",
    "print('Precision score: ', (tp / (tp + fp)))\n",
    "print('False Positive rate: ', (fp / (tn + fp)))"
   ]
  },
  {
   "cell_type": "markdown",
   "id": "c2f8ce3c-3f2f-4897-a613-65798a8735b8",
   "metadata": {},
   "source": [
    "**Interpretation**:\n",
    "Our model's best classification metric is specificity -  the true negative of when a post would get fewer than the median amounts of comments. \n",
    "\n",
    "For recall, or the true positive rate, our model scored a 60.5% which means that ~60% of posts with over 5 comments were identified.\n",
    "For precision, or the proportion that are actually positive of all the things I predicted were, our model scored 65.5% which means that ~65% of positive predictions were correct.\n",
    "\n",
    "Since this is not a life or death scenario, there was no preference given to whether false positives or false negatives were identified, and I was just aiming to achieve highest accuracy overall."
   ]
  }
 ],
 "metadata": {
  "kernelspec": {
   "display_name": "Python 3 (ipykernel)",
   "language": "python",
   "name": "python3"
  },
  "language_info": {
   "codemirror_mode": {
    "name": "ipython",
    "version": 3
   },
   "file_extension": ".py",
   "mimetype": "text/x-python",
   "name": "python",
   "nbconvert_exporter": "python",
   "pygments_lexer": "ipython3",
   "version": "3.9.12"
  }
 },
 "nbformat": 4,
 "nbformat_minor": 5
}
