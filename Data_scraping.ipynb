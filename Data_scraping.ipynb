{
 "cells": [
  {
   "cell_type": "code",
   "execution_count": 126,
   "id": "453cd7c5-ea93-4ebc-936d-c4a77f8839c0",
   "metadata": {},
   "outputs": [],
   "source": [
    "import pandas as pd\n",
    "from pmaw import PushshiftAPI\n",
    "import praw\n",
    "from datetime import datetime"
   ]
  },
  {
   "cell_type": "markdown",
   "id": "2eac811b-1f9b-4cdb-9d74-47a56d1b624b",
   "metadata": {},
   "source": [
    "### PRAW Reddit API"
   ]
  },
  {
   "cell_type": "code",
   "execution_count": 98,
   "id": "84d4435b-aa21-44f0-a7d8-6cf5ec9cd90c",
   "metadata": {},
   "outputs": [],
   "source": [
    "# Instantiating API for PRAW:\n",
    "reddit = praw.Reddit(client_id='xSiGiGwvCH2RY95RjB2WKQ', client_secret='NJdd_bWhk4HpdnmTIEMjMlj6sIY5Ow', user_agent='project 3')"
   ]
  },
  {
   "cell_type": "code",
   "execution_count": 111,
   "id": "c6bbda26-de42-46ae-8683-553f49e0cfc3",
   "metadata": {},
   "outputs": [
    {
     "data": {
      "text/html": [
       "<div>\n",
       "<style scoped>\n",
       "    .dataframe tbody tr th:only-of-type {\n",
       "        vertical-align: middle;\n",
       "    }\n",
       "\n",
       "    .dataframe tbody tr th {\n",
       "        vertical-align: top;\n",
       "    }\n",
       "\n",
       "    .dataframe thead th {\n",
       "        text-align: right;\n",
       "    }\n",
       "</style>\n",
       "<table border=\"1\" class=\"dataframe\">\n",
       "  <thead>\n",
       "    <tr style=\"text-align: right;\">\n",
       "      <th></th>\n",
       "      <th>title</th>\n",
       "      <th>score</th>\n",
       "      <th>id</th>\n",
       "      <th>subreddit</th>\n",
       "      <th>url</th>\n",
       "      <th>num_comments</th>\n",
       "      <th>body</th>\n",
       "      <th>created</th>\n",
       "    </tr>\n",
       "  </thead>\n",
       "  <tbody>\n",
       "    <tr>\n",
       "      <th>0</th>\n",
       "      <td>Hurricane Harvey survivors only now getting ba...</td>\n",
       "      <td>1</td>\n",
       "      <td>x2md4s</td>\n",
       "      <td>climatechange</td>\n",
       "      <td>https://www.beaumontenterprise.com/news/articl...</td>\n",
       "      <td>0</td>\n",
       "      <td></td>\n",
       "      <td>1.661974e+09</td>\n",
       "    </tr>\n",
       "    <tr>\n",
       "      <th>1</th>\n",
       "      <td>In what condition would the atmosphere have to...</td>\n",
       "      <td>0</td>\n",
       "      <td>x2emjd</td>\n",
       "      <td>climatechange</td>\n",
       "      <td>https://www.reddit.com/r/climatechange/comment...</td>\n",
       "      <td>5</td>\n",
       "      <td>What is currently happening in Earth is it's ...</td>\n",
       "      <td>1.661955e+09</td>\n",
       "    </tr>\n",
       "    <tr>\n",
       "      <th>2</th>\n",
       "      <td>Has anyone here been personally affected by a ...</td>\n",
       "      <td>26</td>\n",
       "      <td>x27u36</td>\n",
       "      <td>climatechange</td>\n",
       "      <td>https://www.reddit.com/r/climatechange/comment...</td>\n",
       "      <td>21</td>\n",
       "      <td>With what’s happened in Pakistan, ongoing wild...</td>\n",
       "      <td>1.661933e+09</td>\n",
       "    </tr>\n",
       "    <tr>\n",
       "      <th>3</th>\n",
       "      <td>A prolonged and record heat wave builds over t...</td>\n",
       "      <td>54</td>\n",
       "      <td>x1y1kh</td>\n",
       "      <td>climatechange</td>\n",
       "      <td>https://www.cnn.com/2022/08/30/weather/record-...</td>\n",
       "      <td>10</td>\n",
       "      <td></td>\n",
       "      <td>1.661902e+09</td>\n",
       "    </tr>\n",
       "    <tr>\n",
       "      <th>4</th>\n",
       "      <td>Graph that illustrates changes in major weathe...</td>\n",
       "      <td>6</td>\n",
       "      <td>x1v5ru</td>\n",
       "      <td>climatechange</td>\n",
       "      <td>https://www.reddit.com/r/climatechange/comment...</td>\n",
       "      <td>5</td>\n",
       "      <td>I’m looking for a graph that depicts the shift...</td>\n",
       "      <td>1.661895e+09</td>\n",
       "    </tr>\n",
       "  </tbody>\n",
       "</table>\n",
       "</div>"
      ],
      "text/plain": [
       "                                               title  score      id  \\\n",
       "0  Hurricane Harvey survivors only now getting ba...      1  x2md4s   \n",
       "1  In what condition would the atmosphere have to...      0  x2emjd   \n",
       "2  Has anyone here been personally affected by a ...     26  x27u36   \n",
       "3  A prolonged and record heat wave builds over t...     54  x1y1kh   \n",
       "4  Graph that illustrates changes in major weathe...      6  x1v5ru   \n",
       "\n",
       "       subreddit                                                url  \\\n",
       "0  climatechange  https://www.beaumontenterprise.com/news/articl...   \n",
       "1  climatechange  https://www.reddit.com/r/climatechange/comment...   \n",
       "2  climatechange  https://www.reddit.com/r/climatechange/comment...   \n",
       "3  climatechange  https://www.cnn.com/2022/08/30/weather/record-...   \n",
       "4  climatechange  https://www.reddit.com/r/climatechange/comment...   \n",
       "\n",
       "   num_comments                                               body  \\\n",
       "0             0                                                      \n",
       "1             5   What is currently happening in Earth is it's ...   \n",
       "2            21  With what’s happened in Pakistan, ongoing wild...   \n",
       "3            10                                                      \n",
       "4             5  I’m looking for a graph that depicts the shift...   \n",
       "\n",
       "        created  \n",
       "0  1.661974e+09  \n",
       "1  1.661955e+09  \n",
       "2  1.661933e+09  \n",
       "3  1.661902e+09  \n",
       "4  1.661895e+09  "
      ]
     },
     "execution_count": 111,
     "metadata": {},
     "output_type": "execute_result"
    }
   ],
   "source": [
    "# Setting up scrape to collect desired columns:\n",
    "posts = []\n",
    "cc_subreddit = reddit.subreddit('climatechange')\n",
    "for post in cc_subreddit.new(limit=1000):\n",
    "    posts.append([post.title, post.score, post.id, post.subreddit, post.url, post.num_comments, post.selftext, post.created])\n",
    "posts = pd.DataFrame(posts,columns=['title', 'score', 'id', 'subreddit', 'url', 'num_comments', 'body', 'created'])\n",
    "posts.head()"
   ]
  },
  {
   "cell_type": "code",
   "execution_count": 113,
   "id": "2e0a9abd-6dad-404a-8f53-43cc90fe3017",
   "metadata": {},
   "outputs": [
    {
     "data": {
      "text/html": [
       "<div>\n",
       "<style scoped>\n",
       "    .dataframe tbody tr th:only-of-type {\n",
       "        vertical-align: middle;\n",
       "    }\n",
       "\n",
       "    .dataframe tbody tr th {\n",
       "        vertical-align: top;\n",
       "    }\n",
       "\n",
       "    .dataframe thead th {\n",
       "        text-align: right;\n",
       "    }\n",
       "</style>\n",
       "<table border=\"1\" class=\"dataframe\">\n",
       "  <thead>\n",
       "    <tr style=\"text-align: right;\">\n",
       "      <th></th>\n",
       "      <th>title</th>\n",
       "      <th>score</th>\n",
       "      <th>id</th>\n",
       "      <th>subreddit</th>\n",
       "      <th>url</th>\n",
       "      <th>num_comments</th>\n",
       "      <th>body</th>\n",
       "      <th>created</th>\n",
       "      <th>date</th>\n",
       "    </tr>\n",
       "  </thead>\n",
       "  <tbody>\n",
       "    <tr>\n",
       "      <th>0</th>\n",
       "      <td>Hurricane Harvey survivors only now getting ba...</td>\n",
       "      <td>1</td>\n",
       "      <td>x2md4s</td>\n",
       "      <td>climatechange</td>\n",
       "      <td>https://www.beaumontenterprise.com/news/articl...</td>\n",
       "      <td>0</td>\n",
       "      <td></td>\n",
       "      <td>1.661974e+09</td>\n",
       "      <td>2022-08-31 19:30:28</td>\n",
       "    </tr>\n",
       "    <tr>\n",
       "      <th>1</th>\n",
       "      <td>In what condition would the atmosphere have to...</td>\n",
       "      <td>0</td>\n",
       "      <td>x2emjd</td>\n",
       "      <td>climatechange</td>\n",
       "      <td>https://www.reddit.com/r/climatechange/comment...</td>\n",
       "      <td>5</td>\n",
       "      <td>What is currently happening in Earth is it's ...</td>\n",
       "      <td>1.661955e+09</td>\n",
       "      <td>2022-08-31 14:10:44</td>\n",
       "    </tr>\n",
       "    <tr>\n",
       "      <th>2</th>\n",
       "      <td>Has anyone here been personally affected by a ...</td>\n",
       "      <td>26</td>\n",
       "      <td>x27u36</td>\n",
       "      <td>climatechange</td>\n",
       "      <td>https://www.reddit.com/r/climatechange/comment...</td>\n",
       "      <td>21</td>\n",
       "      <td>With what’s happened in Pakistan, ongoing wild...</td>\n",
       "      <td>1.661933e+09</td>\n",
       "      <td>2022-08-31 08:07:27</td>\n",
       "    </tr>\n",
       "    <tr>\n",
       "      <th>3</th>\n",
       "      <td>A prolonged and record heat wave builds over t...</td>\n",
       "      <td>54</td>\n",
       "      <td>x1y1kh</td>\n",
       "      <td>climatechange</td>\n",
       "      <td>https://www.cnn.com/2022/08/30/weather/record-...</td>\n",
       "      <td>10</td>\n",
       "      <td></td>\n",
       "      <td>1.661902e+09</td>\n",
       "      <td>2022-08-30 23:33:35</td>\n",
       "    </tr>\n",
       "    <tr>\n",
       "      <th>4</th>\n",
       "      <td>Graph that illustrates changes in major weathe...</td>\n",
       "      <td>6</td>\n",
       "      <td>x1v5ru</td>\n",
       "      <td>climatechange</td>\n",
       "      <td>https://www.reddit.com/r/climatechange/comment...</td>\n",
       "      <td>5</td>\n",
       "      <td>I’m looking for a graph that depicts the shift...</td>\n",
       "      <td>1.661895e+09</td>\n",
       "      <td>2022-08-30 21:32:19</td>\n",
       "    </tr>\n",
       "  </tbody>\n",
       "</table>\n",
       "</div>"
      ],
      "text/plain": [
       "                                               title  score      id  \\\n",
       "0  Hurricane Harvey survivors only now getting ba...      1  x2md4s   \n",
       "1  In what condition would the atmosphere have to...      0  x2emjd   \n",
       "2  Has anyone here been personally affected by a ...     26  x27u36   \n",
       "3  A prolonged and record heat wave builds over t...     54  x1y1kh   \n",
       "4  Graph that illustrates changes in major weathe...      6  x1v5ru   \n",
       "\n",
       "       subreddit                                                url  \\\n",
       "0  climatechange  https://www.beaumontenterprise.com/news/articl...   \n",
       "1  climatechange  https://www.reddit.com/r/climatechange/comment...   \n",
       "2  climatechange  https://www.reddit.com/r/climatechange/comment...   \n",
       "3  climatechange  https://www.cnn.com/2022/08/30/weather/record-...   \n",
       "4  climatechange  https://www.reddit.com/r/climatechange/comment...   \n",
       "\n",
       "   num_comments                                               body  \\\n",
       "0             0                                                      \n",
       "1             5   What is currently happening in Earth is it's ...   \n",
       "2            21  With what’s happened in Pakistan, ongoing wild...   \n",
       "3            10                                                      \n",
       "4             5  I’m looking for a graph that depicts the shift...   \n",
       "\n",
       "        created                date  \n",
       "0  1.661974e+09 2022-08-31 19:30:28  \n",
       "1  1.661955e+09 2022-08-31 14:10:44  \n",
       "2  1.661933e+09 2022-08-31 08:07:27  \n",
       "3  1.661902e+09 2022-08-30 23:33:35  \n",
       "4  1.661895e+09 2022-08-30 21:32:19  "
      ]
     },
     "execution_count": 113,
     "metadata": {},
     "output_type": "execute_result"
    }
   ],
   "source": [
    "# Converting the epoch time coding to a new, readable column:\n",
    "posts['date'] = pd.to_datetime(posts['created'],unit='s')\n",
    "posts.head()"
   ]
  },
  {
   "cell_type": "code",
   "execution_count": 119,
   "id": "ca2c1485-f840-4e26-8a57-e6155745f097",
   "metadata": {},
   "outputs": [
    {
     "data": {
      "text/plain": [
       "Index(['title', 'score', 'id', 'subreddit', 'url', 'num_comments', 'body',\n",
       "       'created', 'date'],\n",
       "      dtype='object')"
      ]
     },
     "execution_count": 119,
     "metadata": {},
     "output_type": "execute_result"
    }
   ],
   "source": [
    "posts.columns"
   ]
  },
  {
   "cell_type": "markdown",
   "id": "594d4f7a-1a81-4e27-9559-1220c87da82f",
   "metadata": {},
   "source": [
    "### PMAW - PushshiftAPI"
   ]
  },
  {
   "cell_type": "code",
   "execution_count": 91,
   "id": "97ea8a69-eee2-4843-bf57-e089c418c5de",
   "metadata": {},
   "outputs": [],
   "source": [
    "# Instantiate our API for PMAW:\n",
    "api = PushshiftAPI()"
   ]
  },
  {
   "cell_type": "code",
   "execution_count": 114,
   "id": "9838b76f-5dfd-4678-af77-660af604f37f",
   "metadata": {},
   "outputs": [
    {
     "name": "stderr",
     "output_type": "stream",
     "text": [
      "Not all PushShift shards are active. Query results may be incomplete.\n",
      "Not all PushShift shards are active. Query results may be incomplete.\n",
      "Not all PushShift shards are active. Query results may be incomplete.\n",
      "Not all PushShift shards are active. Query results may be incomplete.\n",
      "Not all PushShift shards are active. Query results may be incomplete.\n",
      "Not all PushShift shards are active. Query results may be incomplete.\n",
      "Not all PushShift shards are active. Query results may be incomplete.\n",
      "Not all PushShift shards are active. Query results may be incomplete.\n",
      "Not all PushShift shards are active. Query results may be incomplete.\n",
      "Not all PushShift shards are active. Query results may be incomplete.\n",
      "Not all PushShift shards are active. Query results may be incomplete.\n",
      "Not all PushShift shards are active. Query results may be incomplete.\n",
      "Not all PushShift shards are active. Query results may be incomplete.\n",
      "Not all PushShift shards are active. Query results may be incomplete.\n",
      "Not all PushShift shards are active. Query results may be incomplete.\n",
      "Not all PushShift shards are active. Query results may be incomplete.\n",
      "Not all PushShift shards are active. Query results may be incomplete.\n",
      "Not all PushShift shards are active. Query results may be incomplete.\n",
      "Not all PushShift shards are active. Query results may be incomplete.\n",
      "Not all PushShift shards are active. Query results may be incomplete.\n",
      "Not all PushShift shards are active. Query results may be incomplete.\n",
      "Not all PushShift shards are active. Query results may be incomplete.\n",
      "Not all PushShift shards are active. Query results may be incomplete.\n",
      "Not all PushShift shards are active. Query results may be incomplete.\n",
      "Not all PushShift shards are active. Query results may be incomplete.\n",
      "Not all PushShift shards are active. Query results may be incomplete.\n",
      "Not all PushShift shards are active. Query results may be incomplete.\n",
      "Not all PushShift shards are active. Query results may be incomplete.\n",
      "Not all PushShift shards are active. Query results may be incomplete.\n",
      "Not all PushShift shards are active. Query results may be incomplete.\n",
      "Not all PushShift shards are active. Query results may be incomplete.\n"
     ]
    }
   ],
   "source": [
    "# Make the request for our posts in the desired subreddit, for only posts with at least 1 comment:\n",
    "def fxn(item):\n",
    "  return item['num_comments'] > 0\n",
    "psaw_posts = api.search_submissions(filter_fn=fxn, subreddit=\"climatechange\", limit=30000)"
   ]
  },
  {
   "cell_type": "code",
   "execution_count": 115,
   "id": "6cb77b2d-10c5-403c-9887-5e1d8510fa84",
   "metadata": {
    "tags": []
   },
   "outputs": [
    {
     "name": "stdout",
     "output_type": "stream",
     "text": [
      "9188 posts retrieved\n"
     ]
    }
   ],
   "source": [
    "# Confirming call was successful:\n",
    "print(f'{len(psaw_posts)} posts retrieved')"
   ]
  },
  {
   "cell_type": "code",
   "execution_count": 116,
   "id": "ac4ed04d-d471-4cd1-beff-a4b07d42d289",
   "metadata": {},
   "outputs": [],
   "source": [
    "# Reading in posts into a list to be able to convert:\n",
    "post_list = [p for p in psaw_posts]"
   ]
  },
  {
   "cell_type": "code",
   "execution_count": 117,
   "id": "218146fb-5d14-43e8-923b-86d98bbe481e",
   "metadata": {},
   "outputs": [],
   "source": [
    "# convert submissions to dataframe\n",
    "new_posts_df = pd.DataFrame(post_list)"
   ]
  },
  {
   "cell_type": "code",
   "execution_count": 118,
   "id": "e636f7d4-33e4-45d7-9935-769e069176d9",
   "metadata": {
    "tags": []
   },
   "outputs": [
    {
     "data": {
      "text/plain": [
       "Index(['all_awardings', 'allow_live_comments', 'author',\n",
       "       'author_flair_css_class', 'author_flair_richtext', 'author_flair_text',\n",
       "       'author_flair_type', 'author_fullname', 'author_is_blocked',\n",
       "       'author_patreon_flair', 'author_premium', 'awarders', 'can_mod_post',\n",
       "       'contest_mode', 'created_utc', 'domain', 'full_link', 'gildings', 'id',\n",
       "       'is_created_from_ads_ui', 'is_crosspostable', 'is_meta',\n",
       "       'is_original_content', 'is_reddit_media_domain', 'is_robot_indexable',\n",
       "       'is_self', 'is_video', 'link_flair_background_color',\n",
       "       'link_flair_richtext', 'link_flair_text_color', 'link_flair_type',\n",
       "       'locked', 'media_only', 'no_follow', 'num_comments', 'num_crossposts',\n",
       "       'over_18', 'parent_whitelist_status', 'permalink', 'pinned',\n",
       "       'post_hint', 'preview', 'pwls', 'retrieved_on', 'score', 'selftext',\n",
       "       'send_replies', 'spoiler', 'stickied', 'subreddit', 'subreddit_id',\n",
       "       'subreddit_subscribers', 'subreddit_type', 'thumbnail',\n",
       "       'thumbnail_height', 'thumbnail_width', 'title', 'total_awards_received',\n",
       "       'treatment_tags', 'upvote_ratio', 'url', 'url_overridden_by_dest',\n",
       "       'whitelist_status', 'wls', 'removed_by_category', 'media_metadata',\n",
       "       'media', 'media_embed', 'secure_media', 'secure_media_embed',\n",
       "       'poll_data', 'edited', 'author_cakeday', 'crosspost_parent',\n",
       "       'crosspost_parent_list', 'author_flair_background_color',\n",
       "       'author_flair_text_color', 'steward_reports', 'updated_utc',\n",
       "       'og_description', 'og_title', 'removed_by', 'banned_by', 'gilded',\n",
       "       'brand_safe', 'rte_mode', 'author_id', 'author_created_utc',\n",
       "       'suggested_sort', 'approved_at_utc', 'banned_at_utc', 'distinguished',\n",
       "       'view_count', 'mod_reports', 'user_reports'],\n",
       "      dtype='object')"
      ]
     },
     "execution_count": 118,
     "metadata": {},
     "output_type": "execute_result"
    }
   ],
   "source": [
    "# Looking at columns to see what I want to keep:\n",
    "new_posts_df.columns"
   ]
  },
  {
   "cell_type": "code",
   "execution_count": 1,
   "id": "75d9b830-56fd-422c-9bc5-fd4fcceeefc7",
   "metadata": {
    "tags": []
   },
   "outputs": [
    {
     "ename": "NameError",
     "evalue": "name 'new_posts_df' is not defined",
     "output_type": "error",
     "traceback": [
      "\u001b[0;31m---------------------------------------------------------------------------\u001b[0m",
      "\u001b[0;31mNameError\u001b[0m                                 Traceback (most recent call last)",
      "Input \u001b[0;32mIn [1]\u001b[0m, in \u001b[0;36m<cell line: 2>\u001b[0;34m()\u001b[0m\n\u001b[1;32m      1\u001b[0m \u001b[38;5;66;03m# Creating dataframe with desired columns, and those that match the first scrape from PRAW:\u001b[39;00m\n\u001b[0;32m----> 2\u001b[0m better_df \u001b[38;5;241m=\u001b[39m \u001b[43mnew_posts_df\u001b[49m[[\u001b[38;5;124m'\u001b[39m\u001b[38;5;124mtitle\u001b[39m\u001b[38;5;124m'\u001b[39m, \u001b[38;5;124m'\u001b[39m\u001b[38;5;124mscore\u001b[39m\u001b[38;5;124m'\u001b[39m, \u001b[38;5;124m'\u001b[39m\u001b[38;5;124mid\u001b[39m\u001b[38;5;124m'\u001b[39m, \u001b[38;5;124m'\u001b[39m\u001b[38;5;124msubreddit\u001b[39m\u001b[38;5;124m'\u001b[39m, \u001b[38;5;124m'\u001b[39m\u001b[38;5;124murl\u001b[39m\u001b[38;5;124m'\u001b[39m, \u001b[38;5;124m'\u001b[39m\u001b[38;5;124mnum_comments\u001b[39m\u001b[38;5;124m'\u001b[39m, \u001b[38;5;124m'\u001b[39m\u001b[38;5;124mselftext\u001b[39m\u001b[38;5;124m'\u001b[39m,\n\u001b[1;32m      3\u001b[0m        \u001b[38;5;124m'\u001b[39m\u001b[38;5;124mcreated_utc\u001b[39m\u001b[38;5;124m'\u001b[39m]]\u001b[38;5;241m.\u001b[39mcopy()\n\u001b[1;32m      5\u001b[0m better_df\u001b[38;5;241m.\u001b[39mhead()\n",
      "\u001b[0;31mNameError\u001b[0m: name 'new_posts_df' is not defined"
     ]
    }
   ],
   "source": [
    "# Creating dataframe with desired columns, and those that match the first scrape from PRAW:\n",
    "better_df = new_posts_df[['title', 'score', 'id', 'subreddit', 'url', 'num_comments', 'selftext',\n",
    "       'created_utc']].copy()\n",
    "\n",
    "better_df.head()"
   ]
  },
  {
   "cell_type": "code",
   "execution_count": 121,
   "id": "be62e912-da75-4e74-8fb4-ce94f423a45a",
   "metadata": {},
   "outputs": [
    {
     "name": "stdout",
     "output_type": "stream",
     "text": [
      "<class 'pandas.core.frame.DataFrame'>\n",
      "RangeIndex: 9188 entries, 0 to 9187\n",
      "Data columns (total 8 columns):\n",
      " #   Column        Non-Null Count  Dtype \n",
      "---  ------        --------------  ----- \n",
      " 0   title         9188 non-null   object\n",
      " 1   score         9188 non-null   int64 \n",
      " 2   id            9188 non-null   object\n",
      " 3   subreddit     9188 non-null   object\n",
      " 4   url           9188 non-null   object\n",
      " 5   num_comments  9188 non-null   int64 \n",
      " 6   selftext      9173 non-null   object\n",
      " 7   created_utc   9188 non-null   int64 \n",
      "dtypes: int64(3), object(5)\n",
      "memory usage: 574.4+ KB\n"
     ]
    }
   ],
   "source": [
    "better_df.info()"
   ]
  },
  {
   "cell_type": "code",
   "execution_count": 122,
   "id": "a92e4514-21d3-4f98-97b2-60a66c074a67",
   "metadata": {
    "tags": []
   },
   "outputs": [],
   "source": [
    "# Converting UNIX/epoch time to readable:\n",
    "better_df['date'] = pd.to_datetime(better_df['created_utc'],unit='s')"
   ]
  },
  {
   "cell_type": "code",
   "execution_count": 127,
   "id": "50196b60-8a0c-4b4f-ae3e-8c7093b7b827",
   "metadata": {},
   "outputs": [
    {
     "data": {
      "text/html": [
       "<div>\n",
       "<style scoped>\n",
       "    .dataframe tbody tr th:only-of-type {\n",
       "        vertical-align: middle;\n",
       "    }\n",
       "\n",
       "    .dataframe tbody tr th {\n",
       "        vertical-align: top;\n",
       "    }\n",
       "\n",
       "    .dataframe thead th {\n",
       "        text-align: right;\n",
       "    }\n",
       "</style>\n",
       "<table border=\"1\" class=\"dataframe\">\n",
       "  <thead>\n",
       "    <tr style=\"text-align: right;\">\n",
       "      <th></th>\n",
       "      <th>title</th>\n",
       "      <th>score</th>\n",
       "      <th>id</th>\n",
       "      <th>subreddit</th>\n",
       "      <th>url</th>\n",
       "      <th>num_comments</th>\n",
       "      <th>selftext</th>\n",
       "      <th>created_utc</th>\n",
       "      <th>date</th>\n",
       "    </tr>\n",
       "  </thead>\n",
       "  <tbody>\n",
       "    <tr>\n",
       "      <th>0</th>\n",
       "      <td>The 'doomed' UK village to be abandoned to the...</td>\n",
       "      <td>1</td>\n",
       "      <td>qsj557</td>\n",
       "      <td>climatechange</td>\n",
       "      <td>https://www.nzherald.co.nz/world/the-doomed-uk...</td>\n",
       "      <td>9</td>\n",
       "      <td></td>\n",
       "      <td>1636746293</td>\n",
       "      <td>2021-11-12 19:44:53</td>\n",
       "    </tr>\n",
       "    <tr>\n",
       "      <th>1</th>\n",
       "      <td>Nearly-fatal heat already affects people in ‘i...</td>\n",
       "      <td>1</td>\n",
       "      <td>qsg7f3</td>\n",
       "      <td>climatechange</td>\n",
       "      <td>https://idp.nature.com/authorize?response_type...</td>\n",
       "      <td>3</td>\n",
       "      <td></td>\n",
       "      <td>1636738068</td>\n",
       "      <td>2021-11-12 17:27:48</td>\n",
       "    </tr>\n",
       "    <tr>\n",
       "      <th>2</th>\n",
       "      <td>🔮 93% of chance the atmospheric nitrous oxide ...</td>\n",
       "      <td>1</td>\n",
       "      <td>qscf7q</td>\n",
       "      <td>climatechange</td>\n",
       "      <td>https://www.reddit.com/r/climatechange/comment...</td>\n",
       "      <td>6</td>\n",
       "      <td>[https://futuur.com/q/142710/will-atmospheric...</td>\n",
       "      <td>1636727544</td>\n",
       "      <td>2021-11-12 14:32:24</td>\n",
       "    </tr>\n",
       "    <tr>\n",
       "      <th>3</th>\n",
       "      <td>We are nature</td>\n",
       "      <td>1</td>\n",
       "      <td>qs35pn</td>\n",
       "      <td>climatechange</td>\n",
       "      <td>https://i.redd.it/r1waqyb6c3z71.jpg</td>\n",
       "      <td>1</td>\n",
       "      <td></td>\n",
       "      <td>1636690680</td>\n",
       "      <td>2021-11-12 04:18:00</td>\n",
       "    </tr>\n",
       "    <tr>\n",
       "      <th>4</th>\n",
       "      <td>The Climate Is Changing: But That Is Just The ...</td>\n",
       "      <td>1</td>\n",
       "      <td>qryv4m</td>\n",
       "      <td>climatechange</td>\n",
       "      <td>https://www.reddit.com/r/climatechange/comment...</td>\n",
       "      <td>1</td>\n",
       "      <td>Scriptural Foundation: Matthew 24:3-7, See als...</td>\n",
       "      <td>1636676231</td>\n",
       "      <td>2021-11-12 00:17:11</td>\n",
       "    </tr>\n",
       "  </tbody>\n",
       "</table>\n",
       "</div>"
      ],
      "text/plain": [
       "                                               title  score      id  \\\n",
       "0  The 'doomed' UK village to be abandoned to the...      1  qsj557   \n",
       "1  Nearly-fatal heat already affects people in ‘i...      1  qsg7f3   \n",
       "2  🔮 93% of chance the atmospheric nitrous oxide ...      1  qscf7q   \n",
       "3                                      We are nature      1  qs35pn   \n",
       "4  The Climate Is Changing: But That Is Just The ...      1  qryv4m   \n",
       "\n",
       "       subreddit                                                url  \\\n",
       "0  climatechange  https://www.nzherald.co.nz/world/the-doomed-uk...   \n",
       "1  climatechange  https://idp.nature.com/authorize?response_type...   \n",
       "2  climatechange  https://www.reddit.com/r/climatechange/comment...   \n",
       "3  climatechange                https://i.redd.it/r1waqyb6c3z71.jpg   \n",
       "4  climatechange  https://www.reddit.com/r/climatechange/comment...   \n",
       "\n",
       "   num_comments                                           selftext  \\\n",
       "0             9                                                      \n",
       "1             3                                                      \n",
       "2             6   [https://futuur.com/q/142710/will-atmospheric...   \n",
       "3             1                                                      \n",
       "4             1  Scriptural Foundation: Matthew 24:3-7, See als...   \n",
       "\n",
       "   created_utc                date  \n",
       "0   1636746293 2021-11-12 19:44:53  \n",
       "1   1636738068 2021-11-12 17:27:48  \n",
       "2   1636727544 2021-11-12 14:32:24  \n",
       "3   1636690680 2021-11-12 04:18:00  \n",
       "4   1636676231 2021-11-12 00:17:11  "
      ]
     },
     "execution_count": 127,
     "metadata": {},
     "output_type": "execute_result"
    }
   ],
   "source": [
    "better_df.head()"
   ]
  },
  {
   "cell_type": "code",
   "execution_count": 125,
   "id": "f253e502-55e5-4c82-beec-c2ff0d5324e3",
   "metadata": {},
   "outputs": [
    {
     "data": {
      "text/plain": [
       "(9188, 9)"
      ]
     },
     "execution_count": 125,
     "metadata": {},
     "output_type": "execute_result"
    }
   ],
   "source": [
    "better_df.shape"
   ]
  },
  {
   "cell_type": "markdown",
   "id": "c2f2d64c-901a-4a62-a1d4-13e366ff8434",
   "metadata": {},
   "source": [
    "#### Merging PRAW and PMAW dataframes:"
   ]
  },
  {
   "cell_type": "code",
   "execution_count": 130,
   "id": "4611202e-04f6-400d-a59d-37803205161e",
   "metadata": {},
   "outputs": [],
   "source": [
    "# Changing column names to match each other:\n",
    "better_df.rename(columns = {'selftext':'body', 'created_utc':'created'}, inplace = True)"
   ]
  },
  {
   "cell_type": "code",
   "execution_count": 131,
   "id": "03165ea0-d5bd-44b4-b242-1715f4ffca40",
   "metadata": {},
   "outputs": [
    {
     "name": "stdout",
     "output_type": "stream",
     "text": [
      "Index(['title', 'score', 'id', 'subreddit', 'url', 'num_comments', 'body',\n",
      "       'created', 'date'],\n",
      "      dtype='object')\n",
      "Index(['title', 'score', 'id', 'subreddit', 'url', 'num_comments', 'body',\n",
      "       'created', 'date'],\n",
      "      dtype='object')\n"
     ]
    }
   ],
   "source": [
    "print(posts.columns)\n",
    "print(better_df.columns)"
   ]
  },
  {
   "cell_type": "code",
   "execution_count": 135,
   "id": "a8d6a174-4a6f-441b-8efc-c4bc25f04ca5",
   "metadata": {},
   "outputs": [
    {
     "data": {
      "text/plain": [
       "(10161, 9)"
      ]
     },
     "execution_count": 135,
     "metadata": {},
     "output_type": "execute_result"
    }
   ],
   "source": [
    "df_merged = pd.concat([posts, better_df], axis=0)\n",
    "df_merged.shape"
   ]
  },
  {
   "cell_type": "code",
   "execution_count": 136,
   "id": "a2e02766-5fa4-4d89-9daf-5b452a334613",
   "metadata": {},
   "outputs": [
    {
     "name": "stdout",
     "output_type": "stream",
     "text": [
      "<class 'pandas.core.frame.DataFrame'>\n",
      "Int64Index: 10161 entries, 0 to 9187\n",
      "Data columns (total 9 columns):\n",
      " #   Column        Non-Null Count  Dtype         \n",
      "---  ------        --------------  -----         \n",
      " 0   title         10161 non-null  object        \n",
      " 1   score         10161 non-null  int64         \n",
      " 2   id            10161 non-null  object        \n",
      " 3   subreddit     10161 non-null  object        \n",
      " 4   url           10161 non-null  object        \n",
      " 5   num_comments  10161 non-null  int64         \n",
      " 6   body          10146 non-null  object        \n",
      " 7   created       10161 non-null  float64       \n",
      " 8   date          10161 non-null  datetime64[ns]\n",
      "dtypes: datetime64[ns](1), float64(1), int64(2), object(5)\n",
      "memory usage: 793.8+ KB\n"
     ]
    }
   ],
   "source": [
    "df_merged.info()"
   ]
  },
  {
   "cell_type": "markdown",
   "id": "38761dd2-e2dc-4dfd-b6ed-16fe3ce11de7",
   "metadata": {},
   "source": [
    "### Saving to CSV"
   ]
  },
  {
   "cell_type": "code",
   "execution_count": 137,
   "id": "9c32999f-a6ae-4f47-93ca-c66b7299bb06",
   "metadata": {},
   "outputs": [],
   "source": [
    "df_merged.to_csv('cc_posts.csv', header=True, index=False, columns=list(better_df.axes[1]))"
   ]
  }
 ],
 "metadata": {
  "kernelspec": {
   "display_name": "Python 3 (ipykernel)",
   "language": "python",
   "name": "python3"
  },
  "language_info": {
   "codemirror_mode": {
    "name": "ipython",
    "version": 3
   },
   "file_extension": ".py",
   "mimetype": "text/x-python",
   "name": "python",
   "nbconvert_exporter": "python",
   "pygments_lexer": "ipython3",
   "version": "3.9.12"
  }
 },
 "nbformat": 4,
 "nbformat_minor": 5
}
