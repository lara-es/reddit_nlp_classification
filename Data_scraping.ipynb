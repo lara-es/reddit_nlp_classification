{
 "cells": [
  {
   "cell_type": "code",
   "execution_count": 31,
   "id": "453cd7c5-ea93-4ebc-936d-c4a77f8839c0",
   "metadata": {},
   "outputs": [],
   "source": [
    "import pandas as pd\n",
    "from pmaw import PushshiftAPI"
   ]
  },
  {
   "cell_type": "code",
   "execution_count": 32,
   "id": "97ea8a69-eee2-4843-bf57-e089c418c5de",
   "metadata": {},
   "outputs": [],
   "source": [
    "# Instantiate our API\n",
    "api = PushshiftAPI()"
   ]
  },
  {
   "cell_type": "code",
   "execution_count": 33,
   "id": "9838b76f-5dfd-4678-af77-660af604f37f",
   "metadata": {},
   "outputs": [
    {
     "name": "stderr",
     "output_type": "stream",
     "text": [
      "Not all PushShift shards are active. Query results may be incomplete.\n",
      "Not all PushShift shards are active. Query results may be incomplete.\n",
      "Not all PushShift shards are active. Query results may be incomplete.\n",
      "Not all PushShift shards are active. Query results may be incomplete.\n"
     ]
    }
   ],
   "source": [
    "# Make the request for our posts in the desired subreddit:\n",
    "posts = api.search_submissions(subreddit=\"climatechange\", limit=10000)"
   ]
  },
  {
   "cell_type": "code",
   "execution_count": 34,
   "id": "6cb77b2d-10c5-403c-9887-5e1d8510fa84",
   "metadata": {},
   "outputs": [
    {
     "name": "stdout",
     "output_type": "stream",
     "text": [
      "10000 posts retrieved\n"
     ]
    }
   ],
   "source": [
    "# Confirming call was successful:\n",
    "print(f'{len(posts)} posts retrieved')"
   ]
  },
  {
   "cell_type": "code",
   "execution_count": 35,
   "id": "ac4ed04d-d471-4cd1-beff-a4b07d42d289",
   "metadata": {},
   "outputs": [],
   "source": [
    "# Reading in posts into a list to be able to convert:\n",
    "post_list = [p for p in posts]"
   ]
  },
  {
   "cell_type": "code",
   "execution_count": 48,
   "id": "218146fb-5d14-43e8-923b-86d98bbe481e",
   "metadata": {},
   "outputs": [],
   "source": [
    "# convert submissions to dataframe\n",
    "new_posts_df = pd.DataFrame(post_list)"
   ]
  },
  {
   "cell_type": "code",
   "execution_count": 49,
   "id": "e636f7d4-33e4-45d7-9935-769e069176d9",
   "metadata": {},
   "outputs": [
    {
     "data": {
      "text/plain": [
       "Index(['all_awardings', 'allow_live_comments', 'author',\n",
       "       'author_flair_css_class', 'author_flair_richtext', 'author_flair_text',\n",
       "       'author_flair_type', 'author_fullname', 'author_is_blocked',\n",
       "       'author_patreon_flair', 'author_premium', 'awarders', 'can_mod_post',\n",
       "       'contest_mode', 'created_utc', 'domain', 'full_link', 'gildings', 'id',\n",
       "       'is_created_from_ads_ui', 'is_crosspostable', 'is_meta',\n",
       "       'is_original_content', 'is_reddit_media_domain', 'is_robot_indexable',\n",
       "       'is_self', 'is_video', 'link_flair_background_color',\n",
       "       'link_flair_richtext', 'link_flair_text_color', 'link_flair_type',\n",
       "       'locked', 'media_only', 'no_follow', 'num_comments', 'num_crossposts',\n",
       "       'over_18', 'parent_whitelist_status', 'permalink', 'pinned',\n",
       "       'post_hint', 'preview', 'pwls', 'retrieved_on', 'score', 'selftext',\n",
       "       'send_replies', 'spoiler', 'stickied', 'subreddit', 'subreddit_id',\n",
       "       'subreddit_subscribers', 'subreddit_type', 'thumbnail',\n",
       "       'thumbnail_height', 'thumbnail_width', 'title', 'total_awards_received',\n",
       "       'treatment_tags', 'upvote_ratio', 'url', 'url_overridden_by_dest',\n",
       "       'whitelist_status', 'wls', 'author_flair_background_color',\n",
       "       'author_flair_text_color', 'removed_by_category', 'media_metadata',\n",
       "       'media', 'media_embed', 'secure_media', 'secure_media_embed',\n",
       "       'poll_data', 'edited', 'author_cakeday', 'banned_by',\n",
       "       'crosspost_parent', 'crosspost_parent_list', 'steward_reports',\n",
       "       'updated_utc', 'og_description', 'og_title', 'removed_by'],\n",
       "      dtype='object')"
      ]
     },
     "execution_count": 49,
     "metadata": {},
     "output_type": "execute_result"
    }
   ],
   "source": [
    "# Looking at columns to see what I want to keep:\n",
    "new_posts_df.columns"
   ]
  },
  {
   "cell_type": "code",
   "execution_count": 75,
   "id": "75d9b830-56fd-422c-9bc5-fd4fcceeefc7",
   "metadata": {
    "tags": []
   },
   "outputs": [
    {
     "data": {
      "text/html": [
       "<div>\n",
       "<style scoped>\n",
       "    .dataframe tbody tr th:only-of-type {\n",
       "        vertical-align: middle;\n",
       "    }\n",
       "\n",
       "    .dataframe tbody tr th {\n",
       "        vertical-align: top;\n",
       "    }\n",
       "\n",
       "    .dataframe thead th {\n",
       "        text-align: right;\n",
       "    }\n",
       "</style>\n",
       "<table border=\"1\" class=\"dataframe\">\n",
       "  <thead>\n",
       "    <tr style=\"text-align: right;\">\n",
       "      <th></th>\n",
       "      <th>created_utc</th>\n",
       "      <th>num_comments</th>\n",
       "      <th>score</th>\n",
       "      <th>selftext</th>\n",
       "      <th>subreddit</th>\n",
       "      <th>title</th>\n",
       "      <th>url</th>\n",
       "    </tr>\n",
       "  </thead>\n",
       "  <tbody>\n",
       "    <tr>\n",
       "      <th>0</th>\n",
       "      <td>1633432740</td>\n",
       "      <td>15</td>\n",
       "      <td>38</td>\n",
       "      <td></td>\n",
       "      <td>climatechange</td>\n",
       "      <td>Nobel Prize For Physics Goes To Three People W...</td>\n",
       "      <td>https://apnews.com/article/nobel-prizes-scienc...</td>\n",
       "    </tr>\n",
       "    <tr>\n",
       "      <th>1</th>\n",
       "      <td>1633432467</td>\n",
       "      <td>0</td>\n",
       "      <td>1</td>\n",
       "      <td>[deleted]</td>\n",
       "      <td>climatechange</td>\n",
       "      <td>Nobel Prize For Physics Goes To Two Men Who Re...</td>\n",
       "      <td>https://apnews.com/article/nobel-prizes-scienc...</td>\n",
       "    </tr>\n",
       "    <tr>\n",
       "      <th>2</th>\n",
       "      <td>1633431769</td>\n",
       "      <td>5</td>\n",
       "      <td>3</td>\n",
       "      <td></td>\n",
       "      <td>climatechange</td>\n",
       "      <td>Analysis: Which countries are historically res...</td>\n",
       "      <td>https://www.carbonbrief.org/analysis-which-cou...</td>\n",
       "    </tr>\n",
       "    <tr>\n",
       "      <th>3</th>\n",
       "      <td>1633429578</td>\n",
       "      <td>7</td>\n",
       "      <td>5</td>\n",
       "      <td>I am interested in learning data visualization...</td>\n",
       "      <td>climatechange</td>\n",
       "      <td>What is the best programming language or softw...</td>\n",
       "      <td>https://www.reddit.com/r/climatechange/comment...</td>\n",
       "    </tr>\n",
       "    <tr>\n",
       "      <th>4</th>\n",
       "      <td>1633417173</td>\n",
       "      <td>1</td>\n",
       "      <td>1</td>\n",
       "      <td></td>\n",
       "      <td>climatechange</td>\n",
       "      <td>Word animal day</td>\n",
       "      <td>https://i.redd.it/1a1lqwxcykr71.jpg</td>\n",
       "    </tr>\n",
       "  </tbody>\n",
       "</table>\n",
       "</div>"
      ],
      "text/plain": [
       "   created_utc  num_comments  score  \\\n",
       "0   1633432740            15     38   \n",
       "1   1633432467             0      1   \n",
       "2   1633431769             5      3   \n",
       "3   1633429578             7      5   \n",
       "4   1633417173             1      1   \n",
       "\n",
       "                                            selftext      subreddit  \\\n",
       "0                                                     climatechange   \n",
       "1                                          [deleted]  climatechange   \n",
       "2                                                     climatechange   \n",
       "3  I am interested in learning data visualization...  climatechange   \n",
       "4                                                     climatechange   \n",
       "\n",
       "                                               title  \\\n",
       "0  Nobel Prize For Physics Goes To Three People W...   \n",
       "1  Nobel Prize For Physics Goes To Two Men Who Re...   \n",
       "2  Analysis: Which countries are historically res...   \n",
       "3  What is the best programming language or softw...   \n",
       "4                                    Word animal day   \n",
       "\n",
       "                                                 url  \n",
       "0  https://apnews.com/article/nobel-prizes-scienc...  \n",
       "1  https://apnews.com/article/nobel-prizes-scienc...  \n",
       "2  https://www.carbonbrief.org/analysis-which-cou...  \n",
       "3  https://www.reddit.com/r/climatechange/comment...  \n",
       "4                https://i.redd.it/1a1lqwxcykr71.jpg  "
      ]
     },
     "execution_count": 75,
     "metadata": {},
     "output_type": "execute_result"
    }
   ],
   "source": [
    "better_df = new_posts_df[['created_utc', 'num_comments', 'score', 'selftext', \n",
    "                          'subreddit', 'title', 'url']].copy()\n",
    "better_df.head()"
   ]
  },
  {
   "cell_type": "code",
   "execution_count": 76,
   "id": "be62e912-da75-4e74-8fb4-ce94f423a45a",
   "metadata": {},
   "outputs": [
    {
     "name": "stdout",
     "output_type": "stream",
     "text": [
      "<class 'pandas.core.frame.DataFrame'>\n",
      "RangeIndex: 10000 entries, 0 to 9999\n",
      "Data columns (total 7 columns):\n",
      " #   Column        Non-Null Count  Dtype \n",
      "---  ------        --------------  ----- \n",
      " 0   created_utc   10000 non-null  int64 \n",
      " 1   num_comments  10000 non-null  int64 \n",
      " 2   score         10000 non-null  int64 \n",
      " 3   selftext      9979 non-null   object\n",
      " 4   subreddit     10000 non-null  object\n",
      " 5   title         10000 non-null  object\n",
      " 6   url           10000 non-null  object\n",
      "dtypes: int64(3), object(4)\n",
      "memory usage: 547.0+ KB\n"
     ]
    }
   ],
   "source": [
    "better_df.info()"
   ]
  },
  {
   "cell_type": "code",
   "execution_count": 77,
   "id": "a92e4514-21d3-4f98-97b2-60a66c074a67",
   "metadata": {
    "tags": []
   },
   "outputs": [],
   "source": [
    "# Converting UNIX/epoch time to readable:\n",
    "from datetime import datetime\n",
    "better_df['date'] = pd.to_datetime(better_df['created_utc'],unit='s')"
   ]
  },
  {
   "cell_type": "code",
   "execution_count": 78,
   "id": "50196b60-8a0c-4b4f-ae3e-8c7093b7b827",
   "metadata": {},
   "outputs": [
    {
     "data": {
      "text/html": [
       "<div>\n",
       "<style scoped>\n",
       "    .dataframe tbody tr th:only-of-type {\n",
       "        vertical-align: middle;\n",
       "    }\n",
       "\n",
       "    .dataframe tbody tr th {\n",
       "        vertical-align: top;\n",
       "    }\n",
       "\n",
       "    .dataframe thead th {\n",
       "        text-align: right;\n",
       "    }\n",
       "</style>\n",
       "<table border=\"1\" class=\"dataframe\">\n",
       "  <thead>\n",
       "    <tr style=\"text-align: right;\">\n",
       "      <th></th>\n",
       "      <th>num_comments</th>\n",
       "      <th>score</th>\n",
       "      <th>selftext</th>\n",
       "      <th>subreddit</th>\n",
       "      <th>title</th>\n",
       "      <th>url</th>\n",
       "      <th>date</th>\n",
       "    </tr>\n",
       "  </thead>\n",
       "  <tbody>\n",
       "    <tr>\n",
       "      <th>0</th>\n",
       "      <td>15</td>\n",
       "      <td>38</td>\n",
       "      <td></td>\n",
       "      <td>climatechange</td>\n",
       "      <td>Nobel Prize For Physics Goes To Three People W...</td>\n",
       "      <td>https://apnews.com/article/nobel-prizes-scienc...</td>\n",
       "      <td>2021-10-05 11:19:00</td>\n",
       "    </tr>\n",
       "    <tr>\n",
       "      <th>1</th>\n",
       "      <td>0</td>\n",
       "      <td>1</td>\n",
       "      <td>[deleted]</td>\n",
       "      <td>climatechange</td>\n",
       "      <td>Nobel Prize For Physics Goes To Two Men Who Re...</td>\n",
       "      <td>https://apnews.com/article/nobel-prizes-scienc...</td>\n",
       "      <td>2021-10-05 11:14:27</td>\n",
       "    </tr>\n",
       "    <tr>\n",
       "      <th>2</th>\n",
       "      <td>5</td>\n",
       "      <td>3</td>\n",
       "      <td></td>\n",
       "      <td>climatechange</td>\n",
       "      <td>Analysis: Which countries are historically res...</td>\n",
       "      <td>https://www.carbonbrief.org/analysis-which-cou...</td>\n",
       "      <td>2021-10-05 11:02:49</td>\n",
       "    </tr>\n",
       "    <tr>\n",
       "      <th>3</th>\n",
       "      <td>7</td>\n",
       "      <td>5</td>\n",
       "      <td>I am interested in learning data visualization...</td>\n",
       "      <td>climatechange</td>\n",
       "      <td>What is the best programming language or softw...</td>\n",
       "      <td>https://www.reddit.com/r/climatechange/comment...</td>\n",
       "      <td>2021-10-05 10:26:18</td>\n",
       "    </tr>\n",
       "    <tr>\n",
       "      <th>4</th>\n",
       "      <td>1</td>\n",
       "      <td>1</td>\n",
       "      <td></td>\n",
       "      <td>climatechange</td>\n",
       "      <td>Word animal day</td>\n",
       "      <td>https://i.redd.it/1a1lqwxcykr71.jpg</td>\n",
       "      <td>2021-10-05 06:59:33</td>\n",
       "    </tr>\n",
       "  </tbody>\n",
       "</table>\n",
       "</div>"
      ],
      "text/plain": [
       "   num_comments  score                                           selftext  \\\n",
       "0            15     38                                                      \n",
       "1             0      1                                          [deleted]   \n",
       "2             5      3                                                      \n",
       "3             7      5  I am interested in learning data visualization...   \n",
       "4             1      1                                                      \n",
       "\n",
       "       subreddit                                              title  \\\n",
       "0  climatechange  Nobel Prize For Physics Goes To Three People W...   \n",
       "1  climatechange  Nobel Prize For Physics Goes To Two Men Who Re...   \n",
       "2  climatechange  Analysis: Which countries are historically res...   \n",
       "3  climatechange  What is the best programming language or softw...   \n",
       "4  climatechange                                    Word animal day   \n",
       "\n",
       "                                                 url                date  \n",
       "0  https://apnews.com/article/nobel-prizes-scienc... 2021-10-05 11:19:00  \n",
       "1  https://apnews.com/article/nobel-prizes-scienc... 2021-10-05 11:14:27  \n",
       "2  https://www.carbonbrief.org/analysis-which-cou... 2021-10-05 11:02:49  \n",
       "3  https://www.reddit.com/r/climatechange/comment... 2021-10-05 10:26:18  \n",
       "4                https://i.redd.it/1a1lqwxcykr71.jpg 2021-10-05 06:59:33  "
      ]
     },
     "execution_count": 78,
     "metadata": {},
     "output_type": "execute_result"
    }
   ],
   "source": [
    "better_df.drop(columns='created_utc', inplace=True)\n",
    "better_df.head()"
   ]
  },
  {
   "cell_type": "markdown",
   "id": "38761dd2-e2dc-4dfd-b6ed-16fe3ce11de7",
   "metadata": {},
   "source": [
    "### Saving to CSV"
   ]
  },
  {
   "cell_type": "code",
   "execution_count": 79,
   "id": "9c32999f-a6ae-4f47-93ca-c66b7299bb06",
   "metadata": {},
   "outputs": [],
   "source": [
    "better_df.to_csv('climatechange.csv', header=True, index=False, columns=list(better_df.axes[1]))"
   ]
  }
 ],
 "metadata": {
  "kernelspec": {
   "display_name": "Python 3 (ipykernel)",
   "language": "python",
   "name": "python3"
  },
  "language_info": {
   "codemirror_mode": {
    "name": "ipython",
    "version": 3
   },
   "file_extension": ".py",
   "mimetype": "text/x-python",
   "name": "python",
   "nbconvert_exporter": "python",
   "pygments_lexer": "ipython3",
   "version": "3.9.12"
  }
 },
 "nbformat": 4,
 "nbformat_minor": 5
}
